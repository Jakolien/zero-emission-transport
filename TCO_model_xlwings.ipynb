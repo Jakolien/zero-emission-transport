{
 "cells": [
  {
   "cell_type": "markdown",
   "metadata": {
    "slideshow": {
     "slide_type": "slide"
    }
   },
   "source": [
    "# Model the Total Cost of Ownership for electric transport vehicles"
   ]
  },
  {
   "cell_type": "markdown",
   "metadata": {
    "slideshow": {
     "slide_type": "fragment"
    }
   },
   "source": [
    "Jakolien van der Meer\n",
    "\n",
    "HZ University of Applied Sciences"
   ]
  },
  {
   "cell_type": "markdown",
   "metadata": {
    "slideshow": {
     "slide_type": "skip"
    }
   },
   "source": [
    "### Import libraries"
   ]
  },
  {
   "cell_type": "markdown",
   "metadata": {
    "slideshow": {
     "slide_type": "skip"
    }
   },
   "source": [
    "Import libraries:"
   ]
  },
  {
   "cell_type": "code",
   "execution_count": 1,
   "metadata": {
    "slideshow": {
     "slide_type": "skip"
    }
   },
   "outputs": [],
   "source": [
    "import os\n",
    "import numpy as np\n",
    "import pandas as pd\n",
    "import xlwings as xw\n",
    "import matplotlib.pyplot as plt\n",
    "import random\n",
    "import decimal\n",
    "import math\n",
    "#import binascii\n",
    "import xarray as xr\n",
    "from datetime import date\n",
    "from IPython.display import display, HTML\n",
    "%matplotlib inline"
   ]
  },
  {
   "cell_type": "markdown",
   "metadata": {
    "slideshow": {
     "slide_type": "slide"
    }
   },
   "source": [
    "### Run Excell spreadsheet Topsector Logistiek"
   ]
  },
  {
   "cell_type": "markdown",
   "metadata": {
    "slideshow": {
     "slide_type": "fragment"
    }
   },
   "source": [
    "To be able to calculate the TCO value for several input values, we rewrite values in the excel sheet and then import the results in this notebook."
   ]
  },
  {
   "cell_type": "code",
   "execution_count": 2,
   "metadata": {
    "slideshow": {
     "slide_type": "fragment"
    }
   },
   "outputs": [],
   "source": [
    "# set path to xslm file\n",
    "path = r'C:\\Users\\meer0084\\Documents\\test.xlsm'\n",
    "\n",
    "# Connect to existing workbook containing VBA macro\n",
    "wb = xw.Book(path)\n",
    "\n",
    "# open sheet\n",
    "ws = wb.sheets['TCO module ondernemers']\n",
    "\n",
    "# Reset the values to default values\n",
    "wb.macro('reset_values_ondernemers')()\n",
    "wb.macro('reset_values_beleidsmakers')()\n",
    "wb.macro('reset_values_model_parameters')() # added to sheet\n",
    "\n",
    "# xw.apps.keys()\n",
    "# wb = xw.apps[10300].books[path]"
   ]
  },
  {
   "cell_type": "markdown",
   "metadata": {
    "slideshow": {
     "slide_type": "slide"
    }
   },
   "source": [
    "Ask the user for input values and insert in excel sheet."
   ]
  },
  {
   "cell_type": "code",
   "execution_count": 3,
   "metadata": {
    "slideshow": {
     "slide_type": "fragment"
    }
   },
   "outputs": [
    {
     "name": "stdout",
     "output_type": "stream",
     "text": [
      "Voertuigtype: Kleine bakwagen (12t)\n",
      "Koelmachine (J/N): j\n",
      "Verwacht jaarkilometrage: 30000\n",
      "Grijze/groene elektriciteit: grijs\n",
      "Capaciteit vrachtwagenbatterij: \n",
      "Vermogen eigen oplaadsysteem: \n"
     ]
    }
   ],
   "source": [
    "# ask for input values\n",
    "vtype = str(input('Voertuigtype: ')) # {Kleine bakwagen (12t), Grote bakwagen (18t), Trekker-oplegger}\n",
    "koeling = str(input('Koelmachine (J/N): ')) # {gekoeld, niet gekoeld}\n",
    "km_per_year = int(input('Verwacht jaarkilometrage: ')) # > 0\n",
    "el = str(input('Grijze/groene elektriciteit: ')) # {grijs, groen}\n",
    "cap = input('Capaciteit vrachtwagenbatterij: ') # {160,200,240}, default value = 160\n",
    "kwh = input('Vermogen eigen oplaadsysteem: ') # {3,7 , 20, 50, 150, 350} kWh, default value = 20\n",
    "\n",
    "# check values\n",
    "if vtype not in {Kleine bakwagen (12t), Grote bakwagen (18t), Trekker-oplegger}\n",
    "\n",
    "# insert input values in sheet, if empty insert default values\n",
    "ws.range('B12').value = vtype  \n",
    "ws.range('B13').value = 'gekoeld' if koeling in {'J', 'j', 'ja', 'Ja'} else 'niet gekoeld' \n",
    "ws.range('B14').value = km_per_year \n",
    "ws.range('B15').value = el \n",
    "ws.range('E13').value = cap\n",
    "ws.range('E15').value = kwh\n",
    "\n",
    "# save file\n",
    "wb.save(path)"
   ]
  },
  {
   "cell_type": "markdown",
   "metadata": {
    "slideshow": {
     "slide_type": "slide"
    }
   },
   "source": [
    "Read results from workbook and put in a list, then show in a table."
   ]
  },
  {
   "cell_type": "code",
   "execution_count": 4,
   "metadata": {
    "slideshow": {
     "slide_type": "subslide"
    }
   },
   "outputs": [
    {
     "data": {
      "text/html": [
       "<div>\n",
       "<style scoped>\n",
       "    .dataframe tbody tr th:only-of-type {\n",
       "        vertical-align: middle;\n",
       "    }\n",
       "\n",
       "    .dataframe tbody tr th {\n",
       "        vertical-align: top;\n",
       "    }\n",
       "\n",
       "    .dataframe thead th {\n",
       "        text-align: right;\n",
       "    }\n",
       "</style>\n",
       "<table border=\"1\" class=\"dataframe\">\n",
       "  <thead>\n",
       "    <tr style=\"text-align: right;\">\n",
       "      <th></th>\n",
       "      <th>EV</th>\n",
       "      <th>Diesel</th>\n",
       "    </tr>\n",
       "  </thead>\n",
       "  <tbody>\n",
       "    <tr>\n",
       "      <th>a: Totale vaste voertuigkosten per jaar</th>\n",
       "      <td>9708.6589</td>\n",
       "      <td>4669.8770</td>\n",
       "    </tr>\n",
       "    <tr>\n",
       "      <th>b: Totale variabele voertuigkosten per jaar</th>\n",
       "      <td>26209.1183</td>\n",
       "      <td>16486.4099</td>\n",
       "    </tr>\n",
       "    <tr>\n",
       "      <th>c: Totale kosten oplaadsysteem per jaar</th>\n",
       "      <td>447.0000</td>\n",
       "      <td>0.0000</td>\n",
       "    </tr>\n",
       "    <tr>\n",
       "      <th>d: Totale chauffeurskosten per jaar</th>\n",
       "      <td>73944.0000</td>\n",
       "      <td>73944.0000</td>\n",
       "    </tr>\n",
       "    <tr>\n",
       "      <th>e: Totale overhead per jaar</th>\n",
       "      <td>17649.4044</td>\n",
       "      <td>15216.0459</td>\n",
       "    </tr>\n",
       "    <tr>\n",
       "      <th>Totale kosten per km: (a+b+c+d+e)/ kms per jaar</th>\n",
       "      <td>4.2653</td>\n",
       "      <td>3.6772</td>\n",
       "    </tr>\n",
       "    <tr>\n",
       "      <th>Totale kosten per uur: (a+b+c+d+e)/ uren per jaar</th>\n",
       "      <td>49.2147</td>\n",
       "      <td>42.4294</td>\n",
       "    </tr>\n",
       "  </tbody>\n",
       "</table>\n",
       "</div>"
      ],
      "text/plain": [
       "                                                           EV      Diesel\n",
       "a: Totale vaste voertuigkosten per jaar             9708.6589   4669.8770\n",
       "b: Totale variabele voertuigkosten per jaar        26209.1183  16486.4099\n",
       "c: Totale kosten oplaadsysteem per jaar              447.0000      0.0000\n",
       "d: Totale chauffeurskosten per jaar                73944.0000  73944.0000\n",
       "e: Totale overhead per jaar                        17649.4044  15216.0459\n",
       "Totale kosten per km: (a+b+c+d+e)/ kms per jaar        4.2653      3.6772\n",
       "Totale kosten per uur: (a+b+c+d+e)/ uren per jaar     49.2147     42.4294"
      ]
     },
     "execution_count": 4,
     "metadata": {},
     "output_type": "execute_result"
    }
   ],
   "source": [
    "kosten_post = []\n",
    "thuis_opladen = []\n",
    "optimale_mix = []\n",
    "diesel = []\n",
    "\n",
    "for i in [62,76,81,91,101,104,105]:\n",
    "    x = 'A' + str(i)\n",
    "    kosten_post.append(ws.range('A' + str(i)).value)\n",
    "    thuis_opladen.append(ws.range('C'+ str(i)).value)\n",
    "    optimale_mix.append(ws.range('D'+ str(i)).value)\n",
    "    diesel.append(ws.range('E' + str(i)).value)\n",
    "    \n",
    "# show table with results\n",
    "data = np.transpose(np.vstack((np.asarray(thuis_opladen, dtype='float'), np.asarray(diesel, dtype='float')))) \n",
    "columns = ['EV', 'Diesel']\n",
    "index = np.asarray(kosten_post)\n",
    "frame = pd.DataFrame(data, index=index, columns=columns)\n",
    "frame"
   ]
  },
  {
   "cell_type": "markdown",
   "metadata": {
    "slideshow": {
     "slide_type": "slide"
    }
   },
   "source": [
    "Plot the tco components for EV and diesel."
   ]
  },
  {
   "cell_type": "code",
   "execution_count": 5,
   "metadata": {
    "slideshow": {
     "slide_type": "fragment"
    }
   },
   "outputs": [
    {
     "data": {
      "image/png": "[encoded data removed]",
      "text/plain": [
       "<Figure size 432x288 with 1 Axes>"
      ]
     },
     "metadata": {
      "needs_background": "light"
     },
     "output_type": "display_data"
    }
   ],
   "source": [
    "# convert list to float type for plotting\n",
    "data1 = np.asarray(thuis_opladen, dtype='float');\n",
    "data2 = np.asarray(diesel, dtype='float');\n",
    "\n",
    "# Make bar plot\n",
    "index = ['a', 'b', 'c', 'd', 'e', 'tot/km','tot/uur']\n",
    "df = pd.DataFrame({'electrisch': data1,\n",
    "                   'diesel': data2}, index=index)\n",
    "\n",
    "ax = df.plot.bar(rot=0)\n",
    "ax.set_yscale('log')\n",
    "title = vtype + ', ' + str(km_per_year) + ' km/jaar'\n",
    "ax.set_title(title);\n",
    "ax.set_ylabel('TCO per year (euro)')\n",
    "textstr = '''a: Totale vaste voertuigkosten per jaar\\n \n",
    "b: Totale variabele voertuigkosten per jaar\\n \n",
    "c: Totale kosten oplaadsysteem per jaar\\n\n",
    "d: Totale chauffeurskosten per jaar\\n\n",
    "e: Totale overhead per jaar'''      \n",
    "# print textstr\n",
    "plt.text(7, 100, textstr, fontsize=12)\n",
    "plt.show()"
   ]
  },
  {
   "cell_type": "markdown",
   "metadata": {
    "slideshow": {
     "slide_type": "slide"
    }
   },
   "source": [
    "Plot as a stacked diagram."
   ]
  },
  {
   "cell_type": "code",
   "execution_count": 6,
   "metadata": {
    "slideshow": {
     "slide_type": "fragment"
    }
   },
   "outputs": [
    {
     "data": {
      "image/png": "[encoded data removed]",
      "text/plain": [
       "<Figure size 432x288 with 1 Axes>"
      ]
     },
     "metadata": {
      "needs_background": "light"
     },
     "output_type": "display_data"
    }
   ],
   "source": [
    "df = pd.DataFrame({'a: Totale vaste voertuigkosten per jaar': [data1[0],data2[0]],\n",
    "                   'b: Totale variabele voertuigkosten per jaar': [data1[1],data2[1]],\n",
    "                   'c: Totale kosten oplaadsysteem per jaar': [data1[2],data2[2]],\n",
    "                   'd: Totale chauffeurskosten per jaar': [data1[3],data2[3]],\n",
    "                   'e: Totale overhead per jaar': [data1[4],data2[4]]\n",
    "                  }, index=['electrisch','diesel'])\n",
    "\n",
    "ax = df.plot(kind='bar', stacked=True, rot=0)\n",
    "ax.set_title(title);\n",
    "ax.set_ylabel('TCO per jaar (euro)')\n",
    "ax.legend(loc='upper center', bbox_to_anchor=(0.5, -0.2), ncol=3);"
   ]
  },
  {
   "cell_type": "markdown",
   "metadata": {
    "slideshow": {
     "slide_type": "slide"
    }
   },
   "source": [
    "make a pie plot."
   ]
  },
  {
   "cell_type": "code",
   "execution_count": 7,
   "metadata": {
    "slideshow": {
     "slide_type": "fragment"
    }
   },
   "outputs": [
    {
     "data": {
      "image/png": "[encoded data removed]",
      "text/plain": [
       "<Figure size 792x432 with 2 Axes>"
      ]
     },
     "metadata": {},
     "output_type": "display_data"
    }
   ],
   "source": [
    "df = pd.DataFrame({'EV': [data1[0], data1[1] , data1[2], data1[3],data1[4]],\n",
    "                   'diesel': [data2[0], data2[1] , data2[2], data2[3],data2[4]]},\n",
    "                  index=['a', 'b', 'c', 'd', 'e'])\n",
    "plot = df.plot.pie(subplots=True, figsize=(11, 6))"
   ]
  },
  {
   "cell_type": "markdown",
   "metadata": {
    "slideshow": {
     "slide_type": "slide"
    }
   },
   "source": [
    "Calculate and plot the total costs per year vs the number of km/year."
   ]
  },
  {
   "cell_type": "code",
   "execution_count": 8,
   "metadata": {
    "slideshow": {
     "slide_type": "fragment"
    }
   },
   "outputs": [
    {
     "data": {
      "image/png": "[encoded data removed]",
      "text/plain": [
       "<Figure size 432x288 with 1 Axes>"
      ]
     },
     "metadata": {
      "needs_background": "light"
     },
     "output_type": "display_data"
    }
   ],
   "source": [
    "km_per_year = []\n",
    "tco_per_year = []\n",
    "tco_per_year_diesel = []\n",
    "\n",
    "# define km/year range\n",
    "def my_range(start, end, step):\n",
    "    while start <= end:\n",
    "        yield start\n",
    "        start += step\n",
    "\n",
    "# fetch tco for certain amount of kms and append to list\n",
    "for km in my_range(0,50000,1000):\n",
    "    km_per_year.append(km)\n",
    "    \n",
    "    # write kms to sheet\n",
    "    ws.range('B14').value = km\n",
    "    \n",
    "    # read costs from sheet\n",
    "    tco_per_year.append(ws.range('C44').value)\n",
    "    tco_per_year_diesel.append(ws.range('E44').value)\n",
    "    \n",
    "# calculate variance\n",
    "#min_std = [[y - x * decimal.Decimal(0.002) for y in tco_per_year] for x in km_per_year]\n",
    "#plus_std = [[y + x * decimal.Decimal(0.002) for y in tco_per_year] for x in km_per_year]\n",
    "\n",
    "# plot costs vs km \n",
    "plt.plot(km_per_year,tco_per_year, label = 'EV')\n",
    "#plt.fill_between(km_per_year,min_std, plus_std, alpha = 0.5)\n",
    "plt.plot(km_per_year,tco_per_year_diesel, label = 'diesel')\n",
    "plt.xlabel('km/jaar')\n",
    "plt.ylabel('TCO per jaar (euro)')\n",
    "plt.title(vtype)\n",
    "plt.legend(loc='best')\n",
    "plt.show()"
   ]
  },
  {
   "cell_type": "markdown",
   "metadata": {
    "slideshow": {
     "slide_type": "slide"
    }
   },
   "source": [
    "Do the same for co2."
   ]
  },
  {
   "cell_type": "code",
   "execution_count": 9,
   "metadata": {
    "slideshow": {
     "slide_type": "fragment"
    }
   },
   "outputs": [
    {
     "data": {
      "image/png": "[encoded data removed]",
      "text/plain": [
       "<Figure size 432x288 with 1 Axes>"
      ]
     },
     "metadata": {
      "needs_background": "light"
     },
     "output_type": "display_data"
    }
   ],
   "source": [
    "co2_per_year = []\n",
    "co2_per_year_diesel = []\n",
    "\n",
    "# fetch tco for certain amount of kms and append to list\n",
    "for km in km_per_year:\n",
    "    \n",
    "    # write kms to sheet\n",
    "    ws.range('B14').value = km\n",
    "    \n",
    "    # read costs from sheet\n",
    "    co2_per_year.append(ws.range('C49').value)\n",
    "    co2_per_year_diesel.append(ws.range('E49').value)\n",
    "    \n",
    "# plot co2 vs km \n",
    "plt.plot(km_per_year,co2_per_year, label = 'EV')\n",
    "plt.plot(km_per_year,co2_per_year_diesel, label = 'diesel')\n",
    "plt.xlabel('km/jaar')\n",
    "plt.ylabel('CO_2 per jaar (ton)')\n",
    "plt.title(vtype)\n",
    "plt.legend(loc='best')\n",
    "plt.show()"
   ]
  },
  {
   "cell_type": "markdown",
   "metadata": {
    "slideshow": {
     "slide_type": "slide"
    }
   },
   "source": [
    "Show all the results in a table."
   ]
  },
  {
   "cell_type": "code",
   "execution_count": 10,
   "metadata": {
    "scrolled": true,
    "slideshow": {
     "slide_type": "fragment"
    }
   },
   "outputs": [
    {
     "data": {
      "text/html": [
       "<table border=\"1\" class=\"dataframe\">\n",
       "  <thead>\n",
       "    <tr style=\"text-align: right;\">\n",
       "      <th></th>\n",
       "      <th>EV thuis opladen</th>\n",
       "      <th>EV optimale mix</th>\n",
       "      <th>Diesel</th>\n",
       "    </tr>\n",
       "  </thead>\n",
       "  <tbody>\n",
       "    <tr>\n",
       "      <th>RESULTATEN</th>\n",
       "      <td></td>\n",
       "      <td></td>\n",
       "      <td></td>\n",
       "    </tr>\n",
       "    <tr>\n",
       "      <th>Scenario</th>\n",
       "      <td>Uitsluitend thuis opladen</td>\n",
       "      <td>Optimale mix</td>\n",
       "      <td>Diesel</td>\n",
       "    </tr>\n",
       "    <tr>\n",
       "      <th>Scenario technisch mogelijk/niet mogelijk</th>\n",
       "      <td>Scenario valid</td>\n",
       "      <td>Scenario valid</td>\n",
       "      <td>Scenario valid</td>\n",
       "    </tr>\n",
       "    <tr>\n",
       "      <th></th>\n",
       "      <td></td>\n",
       "      <td></td>\n",
       "      <td></td>\n",
       "    </tr>\n",
       "    <tr>\n",
       "      <th>Voertuigtype</th>\n",
       "      <td>Kleine bakwagen (12t) 120 kWh</td>\n",
       "      <td>Kleine bakwagen (12t) 120 kWh</td>\n",
       "      <td>Kleine bakwagen (12t)</td>\n",
       "    </tr>\n",
       "    <tr>\n",
       "      <th>Eigen oplaadsysteem</th>\n",
       "      <td>AC20</td>\n",
       "      <td>AC20</td>\n",
       "      <td>nvt</td>\n",
       "    </tr>\n",
       "    <tr>\n",
       "      <th>Openbaar oplaadsysteem</th>\n",
       "      <td>AC20</td>\n",
       "      <td>AC10</td>\n",
       "      <td>nvt</td>\n",
       "    </tr>\n",
       "    <tr>\n",
       "      <th></th>\n",
       "      <td></td>\n",
       "      <td></td>\n",
       "      <td></td>\n",
       "    </tr>\n",
       "    <tr>\n",
       "      <th>Percentage eigen oplaadsysteem</th>\n",
       "      <td>1</td>\n",
       "      <td>1</td>\n",
       "      <td>nvt</td>\n",
       "    </tr>\n",
       "    <tr>\n",
       "      <th>Percentage extern (openbaar) oplaadsysteem</th>\n",
       "      <td>0</td>\n",
       "      <td>0</td>\n",
       "      <td>nvt</td>\n",
       "    </tr>\n",
       "    <tr>\n",
       "      <th></th>\n",
       "      <td></td>\n",
       "      <td></td>\n",
       "      <td></td>\n",
       "    </tr>\n",
       "    <tr>\n",
       "      <th>Totale kosten per jaar</th>\n",
       "      <td>133171.7435</td>\n",
       "      <td>133171.7435</td>\n",
       "      <td>115655.3822</td>\n",
       "    </tr>\n",
       "    <tr>\n",
       "      <th>Totale kosten per km</th>\n",
       "      <td>2.6634</td>\n",
       "      <td>2.6634</td>\n",
       "      <td>2.3131</td>\n",
       "    </tr>\n",
       "    <tr>\n",
       "      <th>Totale kosten per uur</th>\n",
       "      <td>51.2199</td>\n",
       "      <td>51.2199</td>\n",
       "      <td>44.4828</td>\n",
       "    </tr>\n",
       "    <tr>\n",
       "      <th></th>\n",
       "      <td></td>\n",
       "      <td></td>\n",
       "      <td></td>\n",
       "    </tr>\n",
       "    <tr>\n",
       "      <th>Emissies (totaal per jaar voor het geselecteerde voertuig, WtW)</th>\n",
       "      <td>1</td>\n",
       "      <td>2</td>\n",
       "      <td>3</td>\n",
       "    </tr>\n",
       "    <tr>\n",
       "      <th>CO2 emissies (ton per jaar)</th>\n",
       "      <td>8.15216</td>\n",
       "      <td>8.15216</td>\n",
       "      <td>21.4907</td>\n",
       "    </tr>\n",
       "    <tr>\n",
       "      <th>PM_totaal (kg per jaar)</th>\n",
       "      <td>4.06034</td>\n",
       "      <td>4.06034</td>\n",
       "      <td>4.33345</td>\n",
       "    </tr>\n",
       "    <tr>\n",
       "      <th>NOx_ (kg per jaar)</th>\n",
       "      <td>10.0856</td>\n",
       "      <td>10.0856</td>\n",
       "      <td>43.104</td>\n",
       "    </tr>\n",
       "    <tr>\n",
       "      <th></th>\n",
       "      <td></td>\n",
       "      <td></td>\n",
       "      <td></td>\n",
       "    </tr>\n",
       "    <tr>\n",
       "      <th></th>\n",
       "      <td></td>\n",
       "      <td></td>\n",
       "      <td></td>\n",
       "    </tr>\n",
       "    <tr>\n",
       "      <th>ONDERBOUWING KOSTENBEREKENING</th>\n",
       "      <td></td>\n",
       "      <td></td>\n",
       "      <td></td>\n",
       "    </tr>\n",
       "    <tr>\n",
       "      <th>Vaste kosten per jaar</th>\n",
       "      <td></td>\n",
       "      <td></td>\n",
       "      <td></td>\n",
       "    </tr>\n",
       "    <tr>\n",
       "      <th>Wegenbelasting (dieselvoertuigen)</th>\n",
       "      <td>0</td>\n",
       "      <td>0</td>\n",
       "      <td>312</td>\n",
       "    </tr>\n",
       "    <tr>\n",
       "      <th>Eurovignet</th>\n",
       "      <td>750</td>\n",
       "      <td>750</td>\n",
       "      <td>750</td>\n",
       "    </tr>\n",
       "    <tr>\n",
       "      <th>Rente</th>\n",
       "      <td>4259.6114</td>\n",
       "      <td>4259.6114</td>\n",
       "      <td>1538.877</td>\n",
       "    </tr>\n",
       "    <tr>\n",
       "      <th>Verzekering</th>\n",
       "      <td>5536</td>\n",
       "      <td>5536</td>\n",
       "      <td>2000</td>\n",
       "    </tr>\n",
       "    <tr>\n",
       "      <th>Voertuigheffing</th>\n",
       "      <td>0</td>\n",
       "      <td>0</td>\n",
       "      <td>0</td>\n",
       "    </tr>\n",
       "    <tr>\n",
       "      <th>Diverse overige voertuigkosten</th>\n",
       "      <td>69</td>\n",
       "      <td>69</td>\n",
       "      <td>69</td>\n",
       "    </tr>\n",
       "    <tr>\n",
       "      <th>a: Totale vaste voertuigkosten per jaar</th>\n",
       "      <td>10614.6114</td>\n",
       "      <td>10614.6114</td>\n",
       "      <td>4669.877</td>\n",
       "    </tr>\n",
       "    <tr>\n",
       "      <th>Fixed transport costs</th>\n",
       "      <td>10989.6114</td>\n",
       "      <td>10989.6114</td>\n",
       "      <td>5044.877</td>\n",
       "    </tr>\n",
       "    <tr>\n",
       "      <th>Variabele kosten per jaar</th>\n",
       "      <td></td>\n",
       "      <td></td>\n",
       "      <td></td>\n",
       "    </tr>\n",
       "    <tr>\n",
       "      <th>Afschrijving voertuig</th>\n",
       "      <td>19002.7756</td>\n",
       "      <td>19002.7756</td>\n",
       "      <td>6865.1646</td>\n",
       "    </tr>\n",
       "    <tr>\n",
       "      <th>Brandstofverbruik voertuig</th>\n",
       "      <td>0</td>\n",
       "      <td>0</td>\n",
       "      <td>6143.6636</td>\n",
       "    </tr>\n",
       "    <tr>\n",
       "      <th>Brandstofverbruik koeling</th>\n",
       "      <td>0</td>\n",
       "      <td>0</td>\n",
       "      <td>1817.9086</td>\n",
       "    </tr>\n",
       "    <tr>\n",
       "      <th>Elektriciteitsverbruik</th>\n",
       "      <td>2471.7382</td>\n",
       "      <td>2471.7382</td>\n",
       "      <td>0</td>\n",
       "    </tr>\n",
       "    <tr>\n",
       "      <th>Banden</th>\n",
       "      <td>975</td>\n",
       "      <td>975</td>\n",
       "      <td>975</td>\n",
       "    </tr>\n",
       "    <tr>\n",
       "      <th>Onderhoud</th>\n",
       "      <td>1130.8</td>\n",
       "      <td>1130.8</td>\n",
       "      <td>2570</td>\n",
       "    </tr>\n",
       "    <tr>\n",
       "      <th>Reparatie</th>\n",
       "      <td>5000</td>\n",
       "      <td>5000</td>\n",
       "      <td>1500</td>\n",
       "    </tr>\n",
       "    <tr>\n",
       "      <th>Reparatie/onderhoud koelunit</th>\n",
       "      <td>842.302</td>\n",
       "      <td>842.302</td>\n",
       "      <td>842.302</td>\n",
       "    </tr>\n",
       "    <tr>\n",
       "      <th>Verschil Tolheffing (km-tarief)</th>\n",
       "      <td>0</td>\n",
       "      <td>0</td>\n",
       "      <td>0</td>\n",
       "    </tr>\n",
       "    <tr>\n",
       "      <th>CO2 prijs</th>\n",
       "      <td>0</td>\n",
       "      <td>0</td>\n",
       "      <td>0</td>\n",
       "    </tr>\n",
       "    <tr>\n",
       "      <th>Specifieke vervoerskosten</th>\n",
       "      <td>375</td>\n",
       "      <td>375</td>\n",
       "      <td>375</td>\n",
       "    </tr>\n",
       "    <tr>\n",
       "      <th>b: Totale variabele voertuigkosten per jaar</th>\n",
       "      <td>29797.6157</td>\n",
       "      <td>29797.6157</td>\n",
       "      <td>21089.0387</td>\n",
       "    </tr>\n",
       "    <tr>\n",
       "      <th>Repair, maintenance &amp; tires</th>\n",
       "      <td>2105.8</td>\n",
       "      <td>2105.8</td>\n",
       "      <td>3545</td>\n",
       "    </tr>\n",
       "    <tr>\n",
       "      <th>Kosten oplaadsysteem per jaar</th>\n",
       "      <td></td>\n",
       "      <td></td>\n",
       "      <td></td>\n",
       "    </tr>\n",
       "    <tr>\n",
       "      <th>Aankoop en installatie</th>\n",
       "      <td>282</td>\n",
       "      <td>282</td>\n",
       "      <td>0</td>\n",
       "    </tr>\n",
       "    <tr>\n",
       "      <th>Operationele kosten</th>\n",
       "      <td>165</td>\n",
       "      <td>165</td>\n",
       "      <td>0</td>\n",
       "    </tr>\n",
       "    <tr>\n",
       "      <th>c: Totale kosten oplaadsysteem per jaar</th>\n",
       "      <td>447</td>\n",
       "      <td>447</td>\n",
       "      <td>0</td>\n",
       "    </tr>\n",
       "    <tr>\n",
       "      <th></th>\n",
       "      <td></td>\n",
       "      <td></td>\n",
       "      <td></td>\n",
       "    </tr>\n",
       "    <tr>\n",
       "      <th>Totale voertuig en oplaadsysteemkosten per jaar (a+b+c)</th>\n",
       "      <td>40859.2271</td>\n",
       "      <td>40859.2271</td>\n",
       "      <td>25758.9157</td>\n",
       "    </tr>\n",
       "    <tr>\n",
       "      <th>Totale voertuig en oplaadsysteemkosten per km: (a+b+c)/kms per jaar</th>\n",
       "      <td>0.8172</td>\n",
       "      <td>0.8172</td>\n",
       "      <td>0.5152</td>\n",
       "    </tr>\n",
       "    <tr>\n",
       "      <th>Totale voertuig en oplaadsysteemkosten per uur (a+b+c)/uren per jaar</th>\n",
       "      <td>15.7151</td>\n",
       "      <td>15.7151</td>\n",
       "      <td>9.9073</td>\n",
       "    </tr>\n",
       "    <tr>\n",
       "      <th></th>\n",
       "      <td></td>\n",
       "      <td></td>\n",
       "      <td></td>\n",
       "    </tr>\n",
       "    <tr>\n",
       "      <th>Chauffeurskosten</th>\n",
       "      <td></td>\n",
       "      <td></td>\n",
       "      <td></td>\n",
       "    </tr>\n",
       "    <tr>\n",
       "      <th>Uurloon incl. sociale lasten</th>\n",
       "      <td>70538</td>\n",
       "      <td>70538</td>\n",
       "      <td>70538</td>\n",
       "    </tr>\n",
       "    <tr>\n",
       "      <th>Verblijfkostenvergoeding</th>\n",
       "      <td>2210</td>\n",
       "      <td>2210</td>\n",
       "      <td>2210</td>\n",
       "    </tr>\n",
       "    <tr>\n",
       "      <th>Overige kosten</th>\n",
       "      <td>1196</td>\n",
       "      <td>1196</td>\n",
       "      <td>1196</td>\n",
       "    </tr>\n",
       "    <tr>\n",
       "      <th>d: Totale chauffeurskosten per jaar</th>\n",
       "      <td>73944</td>\n",
       "      <td>73944</td>\n",
       "      <td>73944</td>\n",
       "    </tr>\n",
       "    <tr>\n",
       "      <th></th>\n",
       "      <td></td>\n",
       "      <td></td>\n",
       "      <td></td>\n",
       "    </tr>\n",
       "    <tr>\n",
       "      <th>Totale directe kosten per jaar (a+b+c+d)</th>\n",
       "      <td>114803.2271</td>\n",
       "      <td>114803.2271</td>\n",
       "      <td>99702.9157</td>\n",
       "    </tr>\n",
       "    <tr>\n",
       "      <th>Totale directe kosten per km: (a+b+c+d)/kms per jaar</th>\n",
       "      <td>2.2961</td>\n",
       "      <td>2.2961</td>\n",
       "      <td>1.9941</td>\n",
       "    </tr>\n",
       "    <tr>\n",
       "      <th>Totale directe kosten per uur (a+b+c+d)/uren per jaar</th>\n",
       "      <td>44.1551</td>\n",
       "      <td>44.1551</td>\n",
       "      <td>38.3473</td>\n",
       "    </tr>\n",
       "    <tr>\n",
       "      <th></th>\n",
       "      <td></td>\n",
       "      <td></td>\n",
       "      <td></td>\n",
       "    </tr>\n",
       "    <tr>\n",
       "      <th>Algemene kosten (overhead)</th>\n",
       "      <td></td>\n",
       "      <td></td>\n",
       "      <td></td>\n",
       "    </tr>\n",
       "    <tr>\n",
       "      <th>Loon incl. sociale lasten</th>\n",
       "      <td>9643.4711</td>\n",
       "      <td>9643.4711</td>\n",
       "      <td>8375.0449</td>\n",
       "    </tr>\n",
       "    <tr>\n",
       "      <th>Huisvesting</th>\n",
       "      <td>2984.8839</td>\n",
       "      <td>2984.8839</td>\n",
       "      <td>2592.2758</td>\n",
       "    </tr>\n",
       "    <tr>\n",
       "      <th>Overig</th>\n",
       "      <td>5740.1614</td>\n",
       "      <td>5740.1614</td>\n",
       "      <td>4985.1458</td>\n",
       "    </tr>\n",
       "    <tr>\n",
       "      <th>e: Totale overhead per jaar</th>\n",
       "      <td>18368.5163</td>\n",
       "      <td>18368.5163</td>\n",
       "      <td>15952.4665</td>\n",
       "    </tr>\n",
       "    <tr>\n",
       "      <th></th>\n",
       "      <td></td>\n",
       "      <td></td>\n",
       "      <td></td>\n",
       "    </tr>\n",
       "    <tr>\n",
       "      <th>Totale kosten per jaar (a+b+c+d+e)</th>\n",
       "      <td>133171.7435</td>\n",
       "      <td>133171.7435</td>\n",
       "      <td>115655.3822</td>\n",
       "    </tr>\n",
       "    <tr>\n",
       "      <th>Totale kosten per km: (a+b+c+d+e)/ kms per jaar</th>\n",
       "      <td>2.6634</td>\n",
       "      <td>2.6634</td>\n",
       "      <td>2.3131</td>\n",
       "    </tr>\n",
       "  </tbody>\n",
       "</table>"
      ],
      "text/plain": [
       "<IPython.core.display.HTML object>"
      ]
     },
     "metadata": {},
     "output_type": "display_data"
    }
   ],
   "source": [
    "kosten_post = []\n",
    "thuis_opladen = []\n",
    "optimale_mix = []\n",
    "diesel = []\n",
    "\n",
    "for i in range(33,105):\n",
    "    x = 'A' + str(i)\n",
    "    kosten_post.append(ws.range('A' + str(i)).value)\n",
    "    thuis_opladen.append(ws.range('C'+ str(i)).value)\n",
    "    optimale_mix.append(ws.range('D'+ str(i)).value)\n",
    "    diesel.append(ws.range('E' + str(i)).value)\n",
    "    \n",
    "# show table with results\n",
    "data = np.transpose(np.vstack((np.asarray(thuis_opladen), np.asarray(optimale_mix), np.asarray(diesel)))) \n",
    "columns = ['EV thuis opladen', 'EV optimale mix', 'Diesel']\n",
    "kosten_post = ['' if v is None else v for v in kosten_post] # replace None by empty string\n",
    "index = np.asarray(kosten_post)\n",
    "df = pd.DataFrame(data, index=index, columns=columns)\n",
    "df = df.replace(np.nan, '', regex=True) # replace nan by empty string\n",
    "\n",
    "display(HTML(df.to_html()))"
   ]
  },
  {
   "cell_type": "markdown",
   "metadata": {
    "slideshow": {
     "slide_type": "slide"
    }
   },
   "source": [
    "### Include a time axis to the model"
   ]
  },
  {
   "cell_type": "markdown",
   "metadata": {
    "slideshow": {
     "slide_type": "fragment"
    }
   },
   "source": [
    "To come up with a smart TCO model that includes the evaluation of the cost components in time, we need to define a time scale first."
   ]
  },
  {
   "cell_type": "code",
   "execution_count": 11,
   "metadata": {
    "slideshow": {
     "slide_type": "fragment"
    }
   },
   "outputs": [
    {
     "name": "stdout",
     "output_type": "stream",
     "text": [
      "[2021, 2022, 2023, 2024, 2025, 2026, 2027, 2028, 2029, 2030, 2031, 2032, 2033, 2034, 2035]\n"
     ]
    }
   ],
   "source": [
    "year = []\n",
    "year.append(date.today().year)\n",
    "nr_of_years = 15\n",
    "for i in range(1,nr_of_years): \n",
    "    year.append(year[-1]+1) \n",
    "\n",
    "print(year)"
   ]
  },
  {
   "cell_type": "markdown",
   "metadata": {
    "slideshow": {
     "slide_type": "slide"
    }
   },
   "source": [
    "We predict a certain change in vehicle prices for both diesel and electric vehicles."
   ]
  },
  {
   "cell_type": "code",
   "execution_count": 12,
   "metadata": {
    "slideshow": {
     "slide_type": "fragment"
    }
   },
   "outputs": [
    {
     "data": {
      "image/png": "[encoded data removed]",
      "text/plain": [
       "<Figure size 432x288 with 1 Axes>"
      ]
     },
     "metadata": {
      "needs_background": "light"
     },
     "output_type": "display_data"
    }
   ],
   "source": [
    "mean = 0.9 # average yearly decrease\n",
    "std = 0.07\n",
    "mean_diesel = 1.02\n",
    "std_diesel = 0.03\n",
    "decrease_in_price = np.random.normal(mean,std,nr_of_years)\n",
    "increase_diesel_price =  np.random.normal(mean_diesel,std_diesel,nr_of_years)\n",
    "plt.plot(year,decrease_in_price, label = 'EV')\n",
    "plt.plot(year,increase_diesel_price, label = 'diesel')\n",
    "plt.xlabel('jaar')\n",
    "plt.ylabel('jaarlijkse ontwikkeling voertuigprijs (%)')\n",
    "plt.legend(loc='best')\n",
    "plt.show()"
   ]
  },
  {
   "cell_type": "markdown",
   "metadata": {
    "slideshow": {
     "slide_type": "skip"
    }
   },
   "source": [
    "This is multiplied by the current vehicle prices that can be read from the excel sheet 'Model parameters'."
   ]
  },
  {
   "cell_type": "code",
   "execution_count": 13,
   "metadata": {
    "slideshow": {
     "slide_type": "skip"
    }
   },
   "outputs": [],
   "source": [
    "# open model parameters\n",
    "mp = wb.sheets['Model parameters']\n",
    "\n",
    "vehicle_price = []\n",
    "vehicle_price_diesel = []\n",
    "\n",
    "# get current vehicle price\n",
    "vehicle_price = [np.asarray(mp.range('E3:E11').value, dtype='int')] # EV\n",
    "vehicle_price_diesel = [np.asarray(mp.range('E18:E20').value, dtype='int')] # Diesel\n",
    "\n",
    "# multiply with predicted factor to get purchase price 2021-2030\n",
    "for i in range(1,nr_of_years): \n",
    "    new_price = decrease_in_price[i] * vehicle_price[-1]\n",
    "    vehicle_price = np.append(vehicle_price, [new_price], axis=0)\n",
    "    new_diesel_price = increase_diesel_price[i] * vehicle_price_diesel[-1]\n",
    "    vehicle_price_diesel = np.append(vehicle_price_diesel, [new_diesel_price], axis=0)\n",
    "\n",
    "# convert to integer\n",
    "vehicle_price=vehicle_price.astype(int)\n",
    "vehicle_price_diesel=vehicle_price_diesel.astype(int)"
   ]
  },
  {
   "cell_type": "markdown",
   "metadata": {
    "slideshow": {
     "slide_type": "skip"
    }
   },
   "source": [
    "The mean and standard deviation can be drawn from the data."
   ]
  },
  {
   "cell_type": "code",
   "execution_count": 14,
   "metadata": {
    "slideshow": {
     "slide_type": "skip"
    }
   },
   "outputs": [],
   "source": [
    "# calculate mean\n",
    "mean =  vehicle_price[:,5]\n",
    "mean_diesel = vehicle_price_diesel[:,1]\n",
    "\n",
    "# set standard deviation\n",
    "standard_dev = std * np.mean(vehicle_price[:,5], axis=0) \n",
    "standard_dev_diesel = std_diesel * np.mean(vehicle_price_diesel[:,2])"
   ]
  },
  {
   "cell_type": "markdown",
   "metadata": {
    "slideshow": {
     "slide_type": "slide"
    }
   },
   "source": [
    "We can plot the price evolution for a certain type of vehicle, with a band denoting the standard deviation."
   ]
  },
  {
   "cell_type": "code",
   "execution_count": 15,
   "metadata": {
    "slideshow": {
     "slide_type": "fragment"
    }
   },
   "outputs": [
    {
     "data": {
      "image/png": "[encoded data removed]",
      "text/plain": [
       "<Figure size 432x288 with 1 Axes>"
      ]
     },
     "metadata": {
      "needs_background": "light"
     },
     "output_type": "display_data"
    }
   ],
   "source": [
    "# plot price evolution in time\n",
    "plt.plot(year,mean, c='blue', label = 'Grote bakwagen (18t) 240 kWh');\n",
    "plt.fill_between(year, mean-standard_dev, mean+standard_dev, alpha = 0.5)\n",
    "plt.plot(year,mean_diesel, c='orange', label ='diesel');\n",
    "plt.fill_between(year, mean_diesel-standard_dev_diesel, mean_diesel+standard_dev_diesel, alpha = 0.5)\n",
    "plt.xlabel('jaar')\n",
    "plt.ylabel('voertuigprijs (euro)')\n",
    "plt.title('Verwachte prijsontwikkeling voertuig');\n",
    "plt.legend(loc='best')\n",
    "plt.show()"
   ]
  },
  {
   "cell_type": "markdown",
   "metadata": {
    "slideshow": {
     "slide_type": "slide"
    }
   },
   "source": [
    "Predict the evolution of the action radius in time, which we assume is growing logarithmicly:"
   ]
  },
  {
   "cell_type": "code",
   "execution_count": 16,
   "metadata": {
    "slideshow": {
     "slide_type": "fragment"
    }
   },
   "outputs": [
    {
     "data": {
      "image/png": "[encoded data removed]",
      "text/plain": [
       "<Figure size 432x288 with 1 Axes>"
      ]
     },
     "metadata": {
      "needs_background": "light"
     },
     "output_type": "display_data"
    }
   ],
   "source": [
    "# N.B. Actie radius is alleen van belang voor eerste 5 jaar vanaf nu, dan zal er waarschijnlijk voldoende zijn\n",
    "# Laadcapaciteit kan hier nog wel een issue vormen\n",
    "f = lambda x,a : a * x **0.02 \n",
    "a = math.exp(1)\n",
    "x = np.linspace(20,1,nr_of_years) # array between 1 and 20, of length nr_of_years\n",
    "y = f(x,a)\n",
    "mean = 0.05\n",
    "std = 0.03\n",
    "increase_kWh = np.log(y) + np.random.normal(mean,std,nr_of_years)\n",
    "plt.plot(year,increase_kWh)\n",
    "plt.xlabel('jaar')\n",
    "plt.ylabel('jaarlijkse toename actieradius (kWh)')\n",
    "plt.show()"
   ]
  },
  {
   "cell_type": "code",
   "execution_count": 17,
   "metadata": {
    "slideshow": {
     "slide_type": "skip"
    }
   },
   "outputs": [],
   "source": [
    "# get current action radius and vehicle models\n",
    "action_radius = [np.asarray(mp.range('D3:D11').value, dtype='int')] \n",
    "vehicle_model = [mp.range('A3:A11').value]\n",
    "\n",
    "column_length = len(vehicle_model[-1])\n",
    "\n",
    "for i in range(1,nr_of_years):  \n",
    "    new = action_radius[-1]*increase_kWh[i]\n",
    "    action_radius = np.append(action_radius, [new], axis=0)\n",
    "    \n",
    "    # overwrite last part of each string describing action-radius vehicle model\n",
    "    new_str = []\n",
    "    for j in range(0,column_length):\n",
    "        kWh = str(int(new[j]))\n",
    "        old_kWh = str(int(action_radius[-2][j]))\n",
    "        if len(old_kWh) < 3: \n",
    "            new_str.append(vehicle_model[-1][j][0:-6] + kWh + ' kWh')\n",
    "        elif len(old_kWh) > 3:\n",
    "            new_str.append(vehicle_model[-1][j][0:-8] + kWh + ' kWh')\n",
    "        else:\n",
    "            new_str.append(vehicle_model[-1][j][0:-7] + kWh + ' kWh')\n",
    "        \n",
    "    vehicle_model.append(new_str)\n",
    "\n",
    "# convert to int\n",
    "action_radius = action_radius.astype(int)"
   ]
  },
  {
   "cell_type": "code",
   "execution_count": 18,
   "metadata": {
    "slideshow": {
     "slide_type": "fragment"
    }
   },
   "outputs": [
    {
     "data": {
      "image/png": "[encoded data removed]",
      "text/plain": [
       "<Figure size 432x288 with 1 Axes>"
      ]
     },
     "metadata": {
      "needs_background": "light"
     },
     "output_type": "display_data"
    }
   ],
   "source": [
    "# plot action radius in time\n",
    "mean = action_radius[:,5]\n",
    "standard_dev = std * np.mean(action_radius[:,5])\n",
    "plt.plot(year,mean, c='blue', label = 'Grote bakwagen (18t) 240 kWh');\n",
    "plt.fill_between(year, mean-standard_dev, mean+standard_dev, alpha = 0.5)\n",
    "plt.xlabel('jaar')\n",
    "plt.ylabel('actieradius (kWh)')\n",
    "plt.title('Verwachte ontwikkeling actieradius');\n",
    "plt.legend(loc='best')\n",
    "plt.show()"
   ]
  },
  {
   "cell_type": "markdown",
   "metadata": {
    "slideshow": {
     "slide_type": "slide"
    }
   },
   "source": [
    "Now we are able to change the input parameters in the excel sheet over the years, and read how the tco values for a certain type of vehicle will evolve accordingly."
   ]
  },
  {
   "cell_type": "code",
   "execution_count": 19,
   "metadata": {
    "slideshow": {
     "slide_type": "fragment"
    }
   },
   "outputs": [],
   "source": [
    "# change parameters in Model parameters sheet and read result \n",
    "tco_per_year = []\n",
    "tco_per_year_diesel = []\n",
    "a = []\n",
    "b = []\n",
    "c = []\n",
    "d = []\n",
    "e = []\n",
    "vtype = str(ws.range('B12').value)\n",
    "km_per_year = int(ws.range('B14').value)\n",
    "for i in range(0,nr_of_years):\n",
    "      \n",
    "    mp.range('A3:A11').value = np.vstack(vehicle_model[i])    \n",
    "    mp.range('E3:E11').value = np.vstack(vehicle_price[i])\n",
    "    mp.range('E18:E20').value = np.vstack(vehicle_price_diesel[i]) # N.B. diesel price cannot be changed in first sheet, make this possible.\n",
    "    mp.range('D3:D11').value = np.vstack(action_radius[i]) \n",
    "    \n",
    "    # read total costs of ownership plus cost components\n",
    "    tco_per_year.append(ws.range('C44').value)\n",
    "    tco_per_year_diesel.append(ws.range('E44').value)\n",
    "    a.append(ws.range('C62').value)\n",
    "    b.append(ws.range('C76').value)\n",
    "    c.append(ws.range('C81').value)\n",
    "    d.append(ws.range('C91').value)\n",
    "    e.append(ws.range('C101').value)\n",
    "\n",
    "# save and close workbook"
   ]
  },
  {
   "cell_type": "markdown",
   "metadata": {
    "slideshow": {
     "slide_type": "slide"
    }
   },
   "source": [
    "Again, we can plot the curves for this type of electric and diesel truck."
   ]
  },
  {
   "cell_type": "code",
   "execution_count": 20,
   "metadata": {
    "slideshow": {
     "slide_type": "fragment"
    }
   },
   "outputs": [
    {
     "data": {
      "image/png": "[encoded data removed]",
      "text/plain": [
       "<Figure size 432x288 with 1 Axes>"
      ]
     },
     "metadata": {
      "needs_background": "light"
     },
     "output_type": "display_data"
    }
   ],
   "source": [
    "# plot tco evolution in time\n",
    "mean = tco_per_year\n",
    "#standard_dev = np.std(tco_per_year) * np.ones(9)\n",
    "#print(standard_dev)\n",
    "label = vtype + ', ' + str(km_per_year) + ' km/jaar'\n",
    "plt.plot(year,tco_per_year, c='red', label = label);\n",
    "#plt.fill_between(year, mean-standard_dev, mean+standard_dev, alpha = 0.5)\n",
    "plt.plot(year,tco_per_year_diesel, c='green', label ='diesel');\n",
    "plt.xlabel('jaar')\n",
    "plt.ylabel('TCO per jaar (euro)')\n",
    "plt.title('Verwachte ontwikkeling TCO');\n",
    "plt.legend(loc='best')\n",
    "plt.show()"
   ]
  },
  {
   "cell_type": "markdown",
   "metadata": {
    "slideshow": {
     "slide_type": "slide"
    }
   },
   "source": [
    "Obtain the year of intersection, where 'tco diesel' = 'tco electric'"
   ]
  },
  {
   "cell_type": "code",
   "execution_count": 21,
   "metadata": {
    "slideshow": {
     "slide_type": "fragment"
    }
   },
   "outputs": [
    {
     "name": "stdout",
     "output_type": "stream",
     "text": [
      "year that \"TCO EV\" = \"TCO diesel\" =  6\n"
     ]
    }
   ],
   "source": [
    "# find intersection tco/km\n",
    "i = 0\n",
    "while i < nr_of_years and tco_per_year[i] > tco_per_year_diesel[i]:\n",
    "    i+=1\n",
    "\n",
    "if i < nr_of_years:\n",
    "    intersect = i\n",
    "else:\n",
    "    intersect = len(year) + 1\n",
    "    \n",
    "print('year that \"TCO EV\" = \"TCO diesel\" = ', intersect)"
   ]
  },
  {
   "cell_type": "markdown",
   "metadata": {
    "slideshow": {
     "slide_type": "slide"
    }
   },
   "source": [
    "Put the results in a histogram."
   ]
  },
  {
   "cell_type": "code",
   "execution_count": 22,
   "metadata": {
    "slideshow": {
     "slide_type": "fragment"
    }
   },
   "outputs": [
    {
     "data": {
      "image/png": "[encoded data removed]",
      "text/plain": [
       "<Figure size 432x288 with 1 Axes>"
      ]
     },
     "metadata": {
      "needs_background": "light"
     },
     "output_type": "display_data"
    }
   ],
   "source": [
    "# show costs components in histogram\n",
    "\n",
    "bins = nr_of_years\n",
    "data = np.asarray(a, dtype='float')\n",
    "for x in [b,c,d,e]:\n",
    "    data = np.vstack((data, np.asarray(x, dtype='float')))\n",
    "\n",
    "df = pd.DataFrame({'a: Totale vaste voertuigkosten per jaar': data[0],\n",
    "                   'b: Totale variabele voertuigkosten per jaar': data[1],\n",
    "                   'c: Totale kosten oplaadsysteem per jaar': data[2],\n",
    "                   'd: Totale chauffeurskosten per jaar': data[3],\n",
    "                   'e: Totale overhead per jaar': data[4]\n",
    "                  }, index=year)\n",
    "\n",
    "ax = df.plot(kind='bar', stacked=True)\n",
    "plt.xlabel('jaar')\n",
    "plt.ylabel('TCO per jaar (euro)')\n",
    "ax.set_title(label);\n",
    "ax.legend(loc='upper center', bbox_to_anchor=(0.5, -0.2), ncol=3);"
   ]
  },
  {
   "cell_type": "markdown",
   "metadata": {
    "slideshow": {
     "slide_type": "slide"
    }
   },
   "source": [
    "Predict the evolution of the residual value in time"
   ]
  },
  {
   "cell_type": "code",
   "execution_count": 23,
   "metadata": {
    "slideshow": {
     "slide_type": "fragment"
    }
   },
   "outputs": [],
   "source": [
    "# read from table\n",
    "residual_value = []\n",
    "residual_value_diesel = []\n",
    "decrease_factor = mp.range('B58:B68').value\n",
    "for i in range(0,10):\n",
    "    residual_value.append(vehicle_price[0,5] * decrease_factor[i])\n",
    "    residual_value_diesel.append(vehicle_price_diesel[0,1] * decrease_factor[i])"
   ]
  },
  {
   "cell_type": "code",
   "execution_count": 24,
   "metadata": {
    "slideshow": {
     "slide_type": "fragment"
    }
   },
   "outputs": [
    {
     "data": {
      "image/png": "[encoded data removed]",
      "text/plain": [
       "<Figure size 432x288 with 1 Axes>"
      ]
     },
     "metadata": {
      "needs_background": "light"
     },
     "output_type": "display_data"
    }
   ],
   "source": [
    "# plot residual value in time\n",
    "#mean = residual_value\n",
    "#standard_dev = np.std(residual_value)\n",
    "age = np.linspace(0,10,10)\n",
    "plt.plot(age,residual_value, c='blue', label = 'Grote bakwagen (18t) 240 kWh');\n",
    "plt.plot(age,residual_value_diesel, c='orange', label = 'diesel');\n",
    "#plt.fill_between(year, mean-standard_dev, mean+standard_dev, alpha = 0.5)\n",
    "plt.xlabel('leeftijd')\n",
    "plt.ylabel('restwaarde voertuig (euro)')\n",
    "plt.title('Verwachte restwaarde');\n",
    "plt.legend(loc='best')\n",
    "plt.show()"
   ]
  },
  {
   "cell_type": "markdown",
   "metadata": {
    "slideshow": {
     "slide_type": "slide"
    }
   },
   "source": [
    "### Find best time to replace diesel vehicle by BEV"
   ]
  },
  {
   "cell_type": "markdown",
   "metadata": {
    "slideshow": {
     "slide_type": "fragment"
    }
   },
   "source": [
    "There are several strategies that can be followed by a company. We defined three strategies, but the user can also come up with their own stategy.\n",
    "- strategy 1: replace diesel vehicle with similar electric vehicle if old vehicle is written off\n",
    "- strategy 2: keep diesel vehicle x years longer, or until tco diesel = tco electric (with max(x) = 5)\n",
    "- strategy 3: replace old diesel truck with new diesel/hybrid truck truck until year y, where y is the year that tco diesel = tco electric\n",
    "- strategy 4: replace diesel vehicle as soon as tco_diesel = tco electric"
   ]
  },
  {
   "cell_type": "markdown",
   "metadata": {
    "slideshow": {
     "slide_type": "fragment"
    }
   },
   "source": [
    "For each strategy we calculate the year of transition to EV's for a certain strategy and economic scenario."
   ]
  },
  {
   "cell_type": "markdown",
   "metadata": {
    "slideshow": {
     "slide_type": "skip"
    }
   },
   "source": [
    "As opposed to the technical life span of a vehicle, the economic life span also takes into account the operational costs compared with alternative vehicles. For example, once electrical vehicles become much cheaper than diesel in operational costs, your diesel truck might be written off after 5 instead of 7 years to avoid having higher costs than your competitors."
   ]
  },
  {
   "cell_type": "markdown",
   "metadata": {
    "slideshow": {
     "slide_type": "skip"
    }
   },
   "source": [
    "Here we read the life span of diesel and electric vehicles and the years one would normally replace the diesel vehicle."
   ]
  },
  {
   "cell_type": "code",
   "execution_count": 25,
   "metadata": {
    "slideshow": {
     "slide_type": "skip"
    }
   },
   "outputs": [
    {
     "name": "stdout",
     "output_type": "stream",
     "text": [
      "Life span diesel: 7\n",
      "\n",
      "Life span electric: 7\n",
      "\n",
      "Replace vehicle in: 2024 and 2031\n"
     ]
    }
   ],
   "source": [
    "nr_of_strategies = 4\n",
    "\n",
    "def set_pars(age):\n",
    "    # set fixed parameters\n",
    "\n",
    "    # get lifespan diesel truck \n",
    "    Ld = int(ws.range('C26').value)\n",
    "    Le = int(ws.range('B26').value)\n",
    "    \n",
    "    # calculate index of the years where you need normally would replace vehicle \n",
    "    replace = []\n",
    "    replace.append(year.index(year[0] + Ld - age))\n",
    "    for i in range(2):\n",
    "        replace.append(replace[-1] + Ld)\n",
    "        \n",
    "    return Ld, Le, replace\n",
    "\n",
    "# example\n",
    "p = set_pars(4)\n",
    "print('''Life span diesel: {}\\n\n",
    "Life span electric: {}\\n\n",
    "Replace vehicle in: {} and {}'''.format(p[0],p[1],year[p[2][0]],year[p[2][1]]))"
   ]
  },
  {
   "cell_type": "markdown",
   "metadata": {
    "slideshow": {
     "slide_type": "skip"
    }
   },
   "source": [
    "For strategy 2 we can calculate the extra years that an old vehicle is kept onto, with a maximum of x years."
   ]
  },
  {
   "cell_type": "code",
   "execution_count": 26,
   "metadata": {
    "slideshow": {
     "slide_type": "skip"
    }
   },
   "outputs": [
    {
     "name": "stdout",
     "output_type": "stream",
     "text": [
      "extra years:  3\n"
     ]
    }
   ],
   "source": [
    "def calculate_extra_years(replace,x,i):\n",
    "# check how much longer you can keep vehicle\n",
    "# in case of second strategy\n",
    "# with a maximum of x years\n",
    "# in case intersect lies within lifespan of ith vehicle bought after 2021\n",
    "    if replace[i] + x < intersect:\n",
    "        return x\n",
    "    else:\n",
    "        return intersect - replace[i]\n",
    "    \n",
    "# example\n",
    "x = 3\n",
    "print('extra years: ', calculate_extra_years(p[2],x,0))"
   ]
  },
  {
   "cell_type": "markdown",
   "metadata": {
    "slideshow": {
     "slide_type": "notes"
    }
   },
   "source": [
    "N.B. Ik gebruik waarden in het jaar dat wordt aangekocht voor de eerste 7 jaar. Dus de vaste kosten (=voertuigprijs) gaan niet omlaag, maar de waarde van electriciteit en diesel doen dat wel en de restwaarde veranderd ook. De kosten van het oplaadsysteem zijn ook afhankelijk van jaar van aankoop. Ik neem ook mee dat de restwaarde van diesel sterk zal dalen vanaf jaar 'intersect' en dat dit dus de vaste kosten over alle jaren daarvoor zal beinvloeden. De restwaarde van electrisch stijgt juist,\n",
    "verder zullen subsidies alleen de komende paar jaar worden uitgegeven naar alle waarschijnlijkheid."
   ]
  },
  {
   "cell_type": "markdown",
   "metadata": {
    "slideshow": {
     "slide_type": "fragment"
    }
   },
   "source": [
    "Based on the year that the tco value of diesel and EV intersect for a certain type of vehicle, the strategy that is prefered, and the current age of the vehicle we can calculate the year that the vehicle is replaced and when to buy electric instead of diesel."
   ]
  },
  {
   "cell_type": "code",
   "execution_count": 27,
   "metadata": {
    "slideshow": {
     "slide_type": "skip"
    }
   },
   "outputs": [],
   "source": [
    "def calculate_transition_year(replace, Ld, Le, x, strategy):\n",
    "    # calculate index of year of transition to EV's\n",
    "    # and update life span and year of replacement where necessarry\n",
    "    \n",
    "    if intersect <= replace[0]:         \n",
    "        R1 = replace[0] # replace truck after Ld years of ownage\n",
    "        L1 = Ld # lifespan equals normal lifespan Diesel truck\n",
    "        L2 = Le # lifespan equals normal lifespan electric truck\n",
    "        L3 = Le\n",
    "        # for all strategies except 4:\n",
    "        if strategy == 4:            \n",
    "            R1 = intersect # replace truck earlier then you normally would            \n",
    "            L1 = Ld + intersect - replace[0] # lifespan is shortened by a few years (N.B. this also means residual value is higher!)   \n",
    "        R2 = R1 + L2\n",
    "        R3 = R2 + L3\n",
    "        T = R1 # transition year\n",
    "            \n",
    "    elif intersect <= replace[1]:\n",
    "        R1 = replace[0] # replace truck after Ld years of ownage\n",
    "        R2 = replace[1]\n",
    "        L1 = Ld # lifespan equals normal lifespan Diesel truck\n",
    "        L3 = Le\n",
    "        # for all strategies except 2 and 4:\n",
    "        if strategy == 2:\n",
    "            y = calculate_extra_years(replace,x,0)\n",
    "            R1 = replace[0] + y\n",
    "            L1 = Ld + y \n",
    "            L2 = Le\n",
    "            R2 = R1 + L2                       \n",
    "            T = R1\n",
    "        elif strategy == 4:            \n",
    "            L2 = intersect - replace[0]\n",
    "            R2 = intersect\n",
    "            T = R2\n",
    "        elif strategy == 1:            \n",
    "            L2 = Le\n",
    "            T = R1\n",
    "        elif strategy == 3:            \n",
    "            L2 = Ld\n",
    "            T = R2\n",
    "        R3 = R2 + L3\n",
    "\n",
    "    elif intersect in range(replace[1]+1,replace[2]):\n",
    "        R1 = replace[0] # replace truck after Ld years of ownage\n",
    "        R2 = replace[1]\n",
    "        L1 = Ld # lifespan equals normal lifespan Diesel truck\n",
    "        # for all strategies except 2:\n",
    "        if strategy == 2:\n",
    "            y = calculate_extra_years(replace,x,1)\n",
    "            L2 = Ld + y\n",
    "            R2 = replace[0] + L2            \n",
    "            L3 = Le\n",
    "            T = R2\n",
    "        elif strategy == 1:            \n",
    "            L2 = Le\n",
    "            L3 = Le\n",
    "            T = R1\n",
    "        elif strategy == 3:\n",
    "            L2 = Ld\n",
    "            L3 = Ld\n",
    "            T = replace[2]\n",
    "        elif strategy == 4:\n",
    "            L2 = Ld\n",
    "            L3 = intersect - replace[1]\n",
    "            T = R2 + L3\n",
    "        R3 = R2 + L3\n",
    "    else:\n",
    "        raise Exception(\"Scenario kan niet worden berekend: I > 2039\")\n",
    "    \n",
    "    return [R1, R2, R3, L1, L2, L3, T]"
   ]
  },
  {
   "cell_type": "markdown",
   "metadata": {
    "slideshow": {
     "slide_type": "skip"
    }
   },
   "source": [
    "read the yearly costs for diesel vehicles from the sheet:"
   ]
  },
  {
   "cell_type": "code",
   "execution_count": 28,
   "metadata": {
    "slideshow": {
     "slide_type": "skip"
    }
   },
   "outputs": [],
   "source": [
    "def get_tco_diesel(df,index):\n",
    "    \n",
    "    # read tco value        \n",
    "    tco = float(ws.range('E44').value)\n",
    "    a = float(ws.range('E62').value)\n",
    "    b = float(ws.range('E76').value)\n",
    "    c = float(ws.range('E81').value)\n",
    "    d = float(ws.range('E91').value)\n",
    "    e = float(ws.range('E101').value)\n",
    "    co2 = float(ws.range('E49').value)  \n",
    "    \n",
    "    # write to dataframe\n",
    "    df.loc[year[index]] = [tco,a,b,c,d,e,co2]\n",
    "    \n",
    "    return df"
   ]
  },
  {
   "cell_type": "markdown",
   "metadata": {
    "slideshow": {
     "slide_type": "skip"
    }
   },
   "source": [
    "read the yearly costs for electric vehicles from the sheet."
   ]
  },
  {
   "cell_type": "code",
   "execution_count": 29,
   "metadata": {
    "slideshow": {
     "slide_type": "skip"
    }
   },
   "outputs": [],
   "source": [
    "def get_tco_electric(df,index):\n",
    "    # read tco values    \n",
    "    tco = float(ws.range('C44').value)\n",
    "    a = float(ws.range('C62').value)\n",
    "    b = float(ws.range('C76').value)\n",
    "    c = float(ws.range('C81').value)\n",
    "    d = float(ws.range('C91').value)\n",
    "    e = float(ws.range('C101').value) \n",
    "    co2 = float(ws.range('C49').value)\n",
    "    \n",
    "    # write to dataframe\n",
    "    df.loc[year[index]] = [tco,a,b,c,d,e,co2]\n",
    "    \n",
    "    return df"
   ]
  },
  {
   "cell_type": "markdown",
   "metadata": {
    "slideshow": {
     "slide_type": "slide"
    }
   },
   "source": [
    "For each vehicle calculate the average costs during the vehicle life span and update the costs each year (variable costs: electricity/diesel price, maintenance costs, fine on emissions or extra costs made in ZE zones)  or in the year of replacement (fixed costs: price, residual value, purchase subsidies, purchase of new loading pole)."
   ]
  },
  {
   "cell_type": "code",
   "execution_count": 30,
   "metadata": {},
   "outputs": [],
   "source": [
    "def update_variables_sheet(L,i):\n",
    "    \n",
    "    # update lifespan electric\n",
    "    ws.range('B26').value = L\n",
    "    \n",
    "    # update electric variables\n",
    "    \n",
    "    # predict vehicle price and action radius in transition year\n",
    "    mp.range('A3:A11').value = np.vstack(vehicle_model[i])    \n",
    "    mp.range('E3:E11').value = np.vstack(vehicle_price[i])\n",
    "    mp.range('D3:D11').value = np.vstack(action_radius[i])\n",
    "    #N.B. Add subsidies and restwaarde\n",
    "    \n",
    "    # check if strategy is a valid one, otherwise quit\n",
    "    if ws.range('C103').value == None:\n",
    "        raise Exception(\"Strategie is niet geldig\")\n",
    "    \n",
    "    # update lifespan diesel:\n",
    "    ws.range('C26').value = L\n",
    "        \n",
    "    # update diesel variables\n",
    "    mp.range('E18:E20').value = np.vstack(vehicle_price_diesel[i])\n",
    "    # N.B. Add residual value and boete"
   ]
  },
  {
   "cell_type": "code",
   "execution_count": 31,
   "metadata": {
    "slideshow": {
     "slide_type": "fragment"
    }
   },
   "outputs": [],
   "source": [
    "def iterate_over_years(R,replace,Ld,Le):\n",
    "    # calculate tco costs and cos emissions\n",
    "    # over the number of years\n",
    "    # given the years of replacement R\n",
    "    # and the year of transition to EV's T\n",
    "    # and the technical life span of the vehicle\n",
    "        \n",
    "    # set count years to zero\n",
    "    count = 0\n",
    "    \n",
    "    # initiate data frame\n",
    "    df = pd.DataFrame(columns = ['tco', 'a','b','c','d','e','co2'])\n",
    "    \n",
    "    # Get (number of) years of/until replacement and EV transition year\n",
    "    [R1, R2, R3, L1, L2, L3, T] = R\n",
    "    \n",
    "    #--------------------------------------------------------------------------------------------------------------------- \n",
    "\n",
    "    # update variables sheet for first vehicle   \n",
    "    update_variables_sheet(L1,0)\n",
    "    \n",
    "    for i in range(0,R1):\n",
    "        # use current diesel variables \n",
    "        # N.B. to be exact historic values need to be used, \n",
    "        # but we assume for now that they\n",
    "        # are more or less been constant in the last 5 years        \n",
    "        \n",
    "        # check for additional years\n",
    "        if L1 > Ld and i >= replace[0]:\n",
    "             # Maintenance cost increase for every year a truck is held longer\n",
    "            yearly_increase_factor = 1.5\n",
    "            maintenance_costs = int(ws.range('C29').value) * yearly_increase_factor\n",
    "            ws.range('C29').value = maintenance_costs \n",
    "        \n",
    "        # update diesel price over the years and also the residual value:\n",
    "        # N.B. Nog toevoegen\n",
    "        \n",
    "        # until first replacement it is assumed a diesel is used.        \n",
    "        df = get_tco_diesel(df,i) # read tco values\n",
    "        \n",
    "        count += 1  \n",
    "        \n",
    "    #---------------------------------------------------------------------------------------------------------------------\n",
    "    \n",
    "    # diesel or EV is used depending on strategy and intersection year\n",
    "\n",
    "    # update variables sheet for second vehicle\n",
    "    update_variables_sheet(L2,i)\n",
    "            \n",
    "    for i in range(R1,R2):    \n",
    "        \n",
    "        if R1 == T:\n",
    "            # read tco values for electric vehicles   \n",
    "            df = get_tco_electric(df,i)\n",
    "        else:\n",
    "            # read tco values for diesel vehicles\n",
    "            \n",
    "            # check for additional years\n",
    "            if L2 > Ld and i >= replace[1]:\n",
    "                # Maintenance cost increase for every year a truck is held longer\n",
    "                yearly_increase_factor = 1.5\n",
    "                maintenance_costs = int(ws.range('C29').value) * yearly_increase_factor\n",
    "                ws.range('C29').value = maintenance_costs\n",
    "            \n",
    "            # read tco values    \n",
    "            df = get_tco_diesel(df,i)\n",
    "            \n",
    "        count += 1   \n",
    "        \n",
    "    #---------------------------------------------------------------------------------------------------------------------#    \n",
    "        \n",
    "    # diesel or EV is used depending on strategy and intersection year\n",
    "    \n",
    "    # update variables sheet for third vehicle\n",
    "    update_variables_sheet(L3,i)\n",
    "        \n",
    "    for i in range(R2,min(R3,nr_of_years)):  \n",
    "    \n",
    "        if R1 == T or R2 == T:\n",
    "            # read tco values for electric vehicles\n",
    "            df = get_tco_electric(df,i)\n",
    "        else:\n",
    "            # read tco values for diesel vehicles\n",
    "            \n",
    "            # check for additional years\n",
    "            if L3 > Ld and i >= replace[2]:\n",
    "                # Maintenance cost increase for every year a truck is held longer\n",
    "                yearly_increase_factor = 1.5\n",
    "                maintenance_costs = int(ws.range('C29').value) * yearly_increase_factor\n",
    "                ws.range('C29').value = maintenance_costs\n",
    "            \n",
    "            # read tco values\n",
    "            df = get_tco_diesel(df,i)\n",
    "            \n",
    "        count += 1\n",
    "        \n",
    "        # N.B. Boete CO2 doorberekenen!!\n",
    "        \n",
    "    #---------------------------------------------------------------------------------------------------------------------\n",
    "        \n",
    "    if R3 < nr_of_years:\n",
    "        # this sometimes happens in case of strategy 4 \n",
    "        # in case transition year happens just after replacement\n",
    "        # to new diesel\n",
    "        \n",
    "        # update variables sheet for third vehicle\n",
    "        update_variables_sheet(Le,i)\n",
    "        \n",
    "        for i in range(R3, nr_of_years):\n",
    "            # read tco values\n",
    "            df = get_tco_electric(df,i)\n",
    "            \n",
    "            count += 1           \n",
    "    \n",
    "    # check if nr_of_years is correct\n",
    "    if (count is not nr_of_years):\n",
    "        raise Exception('number of years is not equal to count:')\n",
    "    \n",
    "    # return total tco and co2 values\n",
    "    return df"
   ]
  },
  {
   "cell_type": "markdown",
   "metadata": {
    "slideshow": {
     "slide_type": "slide"
    }
   },
   "source": [
    "This function calls the function that calculate the tco (components) and co2 emissions for a certain type of vehicle with a certain age and for a certain strategy. It also checks the validity of the input parameters."
   ]
  },
  {
   "cell_type": "code",
   "execution_count": 32,
   "metadata": {
    "slideshow": {
     "slide_type": "fragment"
    }
   },
   "outputs": [],
   "source": [
    "def calculate_tco(x,age,strategy):\n",
    "    # compute strategy 2\n",
    "    # x: extra years to keep old truck (is zero for strategy 1 and 3)\n",
    "    # age: current age vehicle, must be smaller than lifespan \n",
    "    # strategy can be 1,2 or 3\n",
    "    \n",
    "    # Reset the values in the sheet to default values\n",
    "    wb.macro('reset_values_ondernemers')()\n",
    "    wb.macro('reset_values_beleidsmakers')()\n",
    "    wb.macro('reset_values_model_parameters')()\n",
    "    \n",
    "    # initiate parameters\n",
    "    Ld, Le, replace = set_pars(age)\n",
    "    \n",
    "    # check limits input parameters:\n",
    "    if x > 5:\n",
    "        # x is too high\n",
    "        raise TypeError(\"Strategie is niet geldig, max(x) = 5\")\n",
    "    \n",
    "    if age > Ld:\n",
    "        # update life span\n",
    "        response = str(input('leeftijd voertuig is groter dan levensduur, wilt u doorgaan? (J/N)'))\n",
    "        if response in {'Ja', 'ja', 'J', 'j'}:\n",
    "            # update life span\n",
    "            int(ws.range('C26').value)\n",
    "        else:\n",
    "            raise TypeError(\"Antwoord niet duidelijk\") \n",
    "        \n",
    "    if strategy not in range(1,5):\n",
    "        # wrong number\n",
    "        raise TypeError(\"Strategie is niet bekend: strategie = {1,2,3,4}\")\n",
    "               \n",
    "    # calculate transition year\n",
    "    R = calculate_transition_year(replace, Ld, Le, x, strategy)\n",
    "\n",
    "    # iterate over the years\n",
    "    df = iterate_over_years(R,replace,Ld,Le)    \n",
    "\n",
    "    return df"
   ]
  },
  {
   "cell_type": "markdown",
   "metadata": {
    "slideshow": {
     "slide_type": "slide"
    }
   },
   "source": [
    "For a vehicle with a certain age call all four strategies and return the costs/emissions."
   ]
  },
  {
   "cell_type": "code",
   "execution_count": 33,
   "metadata": {
    "slideshow": {
     "slide_type": "fragment"
    }
   },
   "outputs": [],
   "source": [
    "def call_strategies(nr_of_strategies, age, extra_years):\n",
    "    # call different strategies\n",
    "    # extra_years = maximum number of extra years for strategy 2   \n",
    "    \n",
    "    # initiate dictionary containing the results\n",
    "    result = {}\n",
    "    \n",
    "    # make vector of extra years\n",
    "    extra_years = [0,extra_years,0,0]\n",
    "\n",
    "    # reset values sheet after each run\n",
    "    for i in range(nr_of_strategies):    \n",
    "        # call strategy\n",
    "        strategy = i+1\n",
    "        extra_years[i]\n",
    "        result['strategie {}'.format(i+1)] = calculate_tco(extra_years[i],age,strategy) \n",
    "        \n",
    "    # return result:\n",
    "    return result"
   ]
  },
  {
   "cell_type": "markdown",
   "metadata": {
    "slideshow": {
     "slide_type": "slide"
    }
   },
   "source": [
    "calculate result for 4 different strategies with age = 5 and x = 3"
   ]
  },
  {
   "cell_type": "code",
   "execution_count": 34,
   "metadata": {
    "slideshow": {
     "slide_type": "skip"
    }
   },
   "outputs": [
    {
     "data": {
      "text/html": [
       "<table border=\"1\" class=\"dataframe\">\n",
       "  <thead>\n",
       "    <tr style=\"text-align: right;\">\n",
       "      <th></th>\n",
       "      <th>tco</th>\n",
       "      <th>a</th>\n",
       "      <th>b</th>\n",
       "      <th>c</th>\n",
       "      <th>d</th>\n",
       "      <th>e</th>\n",
       "      <th>co2</th>\n",
       "    </tr>\n",
       "  </thead>\n",
       "  <tbody>\n",
       "    <tr>\n",
       "      <th>2021</th>\n",
       "      <td>109197.8830</td>\n",
       "      <td>4669.8770</td>\n",
       "      <td>15522.2291</td>\n",
       "      <td>0.0</td>\n",
       "      <td>73944.0</td>\n",
       "      <td>15061.7770</td>\n",
       "      <td>11.608528</td>\n",
       "    </tr>\n",
       "    <tr>\n",
       "      <th>2022</th>\n",
       "      <td>109197.8830</td>\n",
       "      <td>4669.8770</td>\n",
       "      <td>15522.2291</td>\n",
       "      <td>0.0</td>\n",
       "      <td>73944.0</td>\n",
       "      <td>15061.7770</td>\n",
       "      <td>11.608528</td>\n",
       "    </tr>\n",
       "    <tr>\n",
       "      <th>2023</th>\n",
       "      <td>110866.6816</td>\n",
       "      <td>4683.0643</td>\n",
       "      <td>16947.6612</td>\n",
       "      <td>0.0</td>\n",
       "      <td>73944.0</td>\n",
       "      <td>15291.9561</td>\n",
       "      <td>11.608528</td>\n",
       "    </tr>\n",
       "    <tr>\n",
       "      <th>2024</th>\n",
       "      <td>110866.6816</td>\n",
       "      <td>4683.0643</td>\n",
       "      <td>16947.6612</td>\n",
       "      <td>0.0</td>\n",
       "      <td>73944.0</td>\n",
       "      <td>15291.9561</td>\n",
       "      <td>11.608528</td>\n",
       "    </tr>\n",
       "    <tr>\n",
       "      <th>2025</th>\n",
       "      <td>110866.6816</td>\n",
       "      <td>4683.0643</td>\n",
       "      <td>16947.6612</td>\n",
       "      <td>0.0</td>\n",
       "      <td>73944.0</td>\n",
       "      <td>15291.9561</td>\n",
       "      <td>11.608528</td>\n",
       "    </tr>\n",
       "    <tr>\n",
       "      <th>2026</th>\n",
       "      <td>110866.6816</td>\n",
       "      <td>4683.0643</td>\n",
       "      <td>16947.6612</td>\n",
       "      <td>0.0</td>\n",
       "      <td>73944.0</td>\n",
       "      <td>15291.9561</td>\n",
       "      <td>11.608528</td>\n",
       "    </tr>\n",
       "    <tr>\n",
       "      <th>2027</th>\n",
       "      <td>114127.4508</td>\n",
       "      <td>5954.4484</td>\n",
       "      <td>18040.2850</td>\n",
       "      <td>447.0</td>\n",
       "      <td>73944.0</td>\n",
       "      <td>15741.7173</td>\n",
       "      <td>4.052855</td>\n",
       "    </tr>\n",
       "    <tr>\n",
       "      <th>2028</th>\n",
       "      <td>114127.4508</td>\n",
       "      <td>5954.4484</td>\n",
       "      <td>18040.2850</td>\n",
       "      <td>447.0</td>\n",
       "      <td>73944.0</td>\n",
       "      <td>15741.7173</td>\n",
       "      <td>4.052855</td>\n",
       "    </tr>\n",
       "    <tr>\n",
       "      <th>2029</th>\n",
       "      <td>114127.4508</td>\n",
       "      <td>5954.4484</td>\n",
       "      <td>18040.2850</td>\n",
       "      <td>447.0</td>\n",
       "      <td>73944.0</td>\n",
       "      <td>15741.7173</td>\n",
       "      <td>4.052855</td>\n",
       "    </tr>\n",
       "    <tr>\n",
       "      <th>2030</th>\n",
       "      <td>114127.4508</td>\n",
       "      <td>5954.4484</td>\n",
       "      <td>18040.2850</td>\n",
       "      <td>447.0</td>\n",
       "      <td>73944.0</td>\n",
       "      <td>15741.7173</td>\n",
       "      <td>4.052855</td>\n",
       "    </tr>\n",
       "    <tr>\n",
       "      <th>2031</th>\n",
       "      <td>114127.4508</td>\n",
       "      <td>5954.4484</td>\n",
       "      <td>18040.2850</td>\n",
       "      <td>447.0</td>\n",
       "      <td>73944.0</td>\n",
       "      <td>15741.7173</td>\n",
       "      <td>4.052855</td>\n",
       "    </tr>\n",
       "    <tr>\n",
       "      <th>2032</th>\n",
       "      <td>114127.4508</td>\n",
       "      <td>5954.4484</td>\n",
       "      <td>18040.2850</td>\n",
       "      <td>447.0</td>\n",
       "      <td>73944.0</td>\n",
       "      <td>15741.7173</td>\n",
       "      <td>4.052855</td>\n",
       "    </tr>\n",
       "    <tr>\n",
       "      <th>2033</th>\n",
       "      <td>114127.4508</td>\n",
       "      <td>5954.4484</td>\n",
       "      <td>18040.2850</td>\n",
       "      <td>447.0</td>\n",
       "      <td>73944.0</td>\n",
       "      <td>15741.7173</td>\n",
       "      <td>4.052855</td>\n",
       "    </tr>\n",
       "    <tr>\n",
       "      <th>2034</th>\n",
       "      <td>108769.2425</td>\n",
       "      <td>2624.3935</td>\n",
       "      <td>11485.6949</td>\n",
       "      <td>5712.5</td>\n",
       "      <td>73944.0</td>\n",
       "      <td>15002.6541</td>\n",
       "      <td>4.121392</td>\n",
       "    </tr>\n",
       "    <tr>\n",
       "      <th>2035</th>\n",
       "      <td>108769.2425</td>\n",
       "      <td>2624.3935</td>\n",
       "      <td>11485.6949</td>\n",
       "      <td>5712.5</td>\n",
       "      <td>73944.0</td>\n",
       "      <td>15002.6541</td>\n",
       "      <td>4.121392</td>\n",
       "    </tr>\n",
       "  </tbody>\n",
       "</table>"
      ],
      "text/plain": [
       "<IPython.core.display.HTML object>"
      ]
     },
     "metadata": {},
     "output_type": "display_data"
    },
    {
     "data": {
      "text/plain": [
       "tco    110866.681600\n",
       "a        4683.064300\n",
       "b       16947.661200\n",
       "c           0.000000\n",
       "d       73944.000000\n",
       "e       15291.956100\n",
       "co2        11.608528\n",
       "Name: 2025, dtype: float64"
      ]
     },
     "metadata": {},
     "output_type": "display_data"
    },
    {
     "name": "stdout",
     "output_type": "stream",
     "text": [
      "Gemiddelde tco:  111886.21 euro\n",
      "Gemiddelde tco tot en met 2030:  111837.23 euro\n",
      "co2 reductie in 2030:  34.912735739576384 %\n"
     ]
    }
   ],
   "source": [
    "# call strategies\n",
    "result = call_strategies(4,5,3);\n",
    "\n",
    "# show data frame for strategy 4\n",
    "df = result['strategie 4']\n",
    "display(HTML(df.to_html()))\n",
    "\n",
    "# show data of year 2025\n",
    "one_year = df.loc[2025]\n",
    "display(one_year)\n",
    "\n",
    "# sum up tco and divide by number of years\n",
    "avg = round(df['tco'].sum()/nr_of_years,2)\n",
    "print('Gemiddelde tco: ', avg, 'euro')\n",
    "\n",
    "# sum up tco for part of years\n",
    "avg2 = round(df['tco'].loc[2021:2030].sum()/10,2)\n",
    "print('Gemiddelde tco tot en met 2030: ', avg2, 'euro')\n",
    "\n",
    "# print co2 reduction in 2030 vs now\n",
    "red = df['co2'].loc[2030]/df['co2'].loc[2021] * 100\n",
    "print('co2 reductie in 2030: ', red, '%')"
   ]
  },
  {
   "cell_type": "markdown",
   "metadata": {},
   "source": [
    "calculate average over the years."
   ]
  },
  {
   "cell_type": "code",
   "execution_count": 35,
   "metadata": {},
   "outputs": [],
   "source": [
    "def avg(df,years = nr_of_years):\n",
    "    if years is nr_of_years:\n",
    "        # return yearly average over total number of years calculated\n",
    "        return float(df.sum()/nr_of_years)\n",
    "    else:\n",
    "        # return yearly average up until year y\n",
    "        y = year[years] \n",
    "        return float(df.loc[2021:y].sum()/years)"
   ]
  },
  {
   "cell_type": "markdown",
   "metadata": {
    "slideshow": {
     "slide_type": "slide"
    }
   },
   "source": [
    "Plot in pie chart of the tco components per strategy."
   ]
  },
  {
   "cell_type": "code",
   "execution_count": 36,
   "metadata": {
    "scrolled": true,
    "slideshow": {
     "slide_type": "fragment"
    }
   },
   "outputs": [
    {
     "data": {
      "image/png": "[encoded data removed]",
      "text/plain": [
       "<Figure size 792x432 with 1 Axes>"
      ]
     },
     "metadata": {},
     "output_type": "display_data"
    },
    {
     "data": {
      "image/png": "[encoded data removed]",
      "text/plain": [
       "<Figure size 792x432 with 1 Axes>"
      ]
     },
     "metadata": {},
     "output_type": "display_data"
    },
    {
     "data": {
      "image/png": "[encoded data removed]",
      "text/plain": [
       "<Figure size 792x432 with 1 Axes>"
      ]
     },
     "metadata": {},
     "output_type": "display_data"
    },
    {
     "data": {
      "image/png": "[encoded data removed]",
      "text/plain": [
       "<Figure size 792x432 with 1 Axes>"
      ]
     },
     "metadata": {},
     "output_type": "display_data"
    }
   ],
   "source": [
    "def make_pie_chart(result):        \n",
    "    \n",
    "    for i in range(nr_of_strategies):\n",
    "        name = 'strategie {}'.format(i+1)\n",
    "        df = result[name]\n",
    "        df2 = pd.DataFrame({'tco':[avg(df['a']),avg(df['b']),avg(df['c']),avg(df['d']),avg(df['e'])]},\n",
    "                       index = ['a', 'b', 'c', 'd', 'e'])\n",
    "         \n",
    "        # plot data frame    \n",
    "        ax = df2.plot.pie(subplots=True, figsize=(11, 6),legend=False,title=name)\n",
    "\n",
    "nr_of_strategies = 4\n",
    "make_pie_chart(result)"
   ]
  },
  {
   "cell_type": "markdown",
   "metadata": {
    "slideshow": {
     "slide_type": "slide"
    }
   },
   "source": [
    "### Calculate and plot the TCO and CO2 emissions for a fleet of vehicles"
   ]
  },
  {
   "cell_type": "markdown",
   "metadata": {
    "slideshow": {
     "slide_type": "fragment"
    }
   },
   "source": [
    "We can calculate for a company the best 'transition strategy' for each vehicle they own and what the total emissions are for their entire fleet. Moreover, loading costs might be cheaper when vehicles can share a loading pole (N.B. Voeg dit toe)."
   ]
  },
  {
   "cell_type": "code",
   "execution_count": 37,
   "metadata": {
    "slideshow": {
     "slide_type": "skip"
    }
   },
   "outputs": [],
   "source": [
    "def read_vehicle_details(nr_of_vehicles):\n",
    "    # open sheet companies\n",
    "    wp = wb.sheets['wagenpark']\n",
    "\n",
    "    # initiate vehicle\n",
    "    vehicle = []\n",
    "\n",
    "    # read vehicle details company A\n",
    "    for i in range(1,nr_of_vehicles+2):\n",
    "        index = 'B' + str(i) + ':' + 'J' + str(i)\n",
    "        vehicle.append(wp.range(index).value)\n",
    "    \n",
    "    return vehicle"
   ]
  },
  {
   "cell_type": "markdown",
   "metadata": {
    "slideshow": {
     "slide_type": "skip"
    }
   },
   "source": [
    "Insert the details for a vehicle in the sheet."
   ]
  },
  {
   "cell_type": "code",
   "execution_count": 38,
   "metadata": {
    "slideshow": {
     "slide_type": "skip"
    }
   },
   "outputs": [],
   "source": [
    "def write_vehicle_details(vehicle,index):\n",
    "    \n",
    "    # insert vehicle details in 'TCO module ondernemers' \n",
    "    ws.range('B12').value = vehicle[index][0] \n",
    "    ws.range('B13').value = vehicle[index][2]\n",
    "    ws.range('B14').value = vehicle[index][3] \n",
    "    ws.range('B15').value = vehicle[index][4]\n",
    "    \n",
    "    # return age of vehicle\n",
    "    return year[0] - vehicle[index][1]"
   ]
  },
  {
   "cell_type": "markdown",
   "metadata": {
    "slideshow": {
     "slide_type": "slide"
    }
   },
   "source": [
    "List all vehicles of a company and put in a table."
   ]
  },
  {
   "cell_type": "code",
   "execution_count": 39,
   "metadata": {
    "slideshow": {
     "slide_type": "fragment"
    }
   },
   "outputs": [
    {
     "name": "stdout",
     "output_type": "stream",
     "text": [
      "Aantal voertuigen: 6\n"
     ]
    },
    {
     "data": {
      "text/html": [
       "<table border=\"1\" class=\"dataframe\">\n",
       "  <thead>\n",
       "    <tr style=\"text-align: right;\">\n",
       "      <th></th>\n",
       "      <th>type</th>\n",
       "      <th>jaar van aanschaf</th>\n",
       "      <th>gekoeld</th>\n",
       "      <th>Verwacht jaarkilometrage</th>\n",
       "      <th>Grijze/groene elektriciteit</th>\n",
       "      <th>max dagkilometrage</th>\n",
       "      <th>rijdt op (toekomstige) ZE zone</th>\n",
       "      <th>flexibel inzetbaar</th>\n",
       "      <th>technologische levensduur</th>\n",
       "    </tr>\n",
       "  </thead>\n",
       "  <tbody>\n",
       "    <tr>\n",
       "      <th>0</th>\n",
       "      <td>Grote bakwagen (18t)</td>\n",
       "      <td>2015.0</td>\n",
       "      <td>nee</td>\n",
       "      <td>35000.0</td>\n",
       "      <td>grijs</td>\n",
       "      <td>200.0</td>\n",
       "      <td>nee</td>\n",
       "      <td>nee</td>\n",
       "      <td>7.0</td>\n",
       "    </tr>\n",
       "    <tr>\n",
       "      <th>1</th>\n",
       "      <td>Grote bakwagen (18t)</td>\n",
       "      <td>2017.0</td>\n",
       "      <td>nee</td>\n",
       "      <td>50000.0</td>\n",
       "      <td>grijs</td>\n",
       "      <td>300.0</td>\n",
       "      <td>nee</td>\n",
       "      <td>nee</td>\n",
       "      <td>7.0</td>\n",
       "    </tr>\n",
       "    <tr>\n",
       "      <th>2</th>\n",
       "      <td>Kleine bakwagen (12t)</td>\n",
       "      <td>2016.0</td>\n",
       "      <td>nee</td>\n",
       "      <td>30000.0</td>\n",
       "      <td>groen</td>\n",
       "      <td>150.0</td>\n",
       "      <td>ja</td>\n",
       "      <td>nee</td>\n",
       "      <td>10.0</td>\n",
       "    </tr>\n",
       "    <tr>\n",
       "      <th>3</th>\n",
       "      <td>Trekker-oplegger</td>\n",
       "      <td>2020.0</td>\n",
       "      <td>nee</td>\n",
       "      <td>40000.0</td>\n",
       "      <td>grijs</td>\n",
       "      <td>140.0</td>\n",
       "      <td>nee</td>\n",
       "      <td>nee</td>\n",
       "      <td>7.0</td>\n",
       "    </tr>\n",
       "    <tr>\n",
       "      <th>4</th>\n",
       "      <td>Kleine bakwagen (12t)</td>\n",
       "      <td>2019.0</td>\n",
       "      <td>nee</td>\n",
       "      <td>20000.0</td>\n",
       "      <td>grijs</td>\n",
       "      <td>600.0</td>\n",
       "      <td>nee</td>\n",
       "      <td>nee</td>\n",
       "      <td>8.0</td>\n",
       "    </tr>\n",
       "    <tr>\n",
       "      <th>5</th>\n",
       "      <td>Grote bakwagen (18t)</td>\n",
       "      <td>2016.0</td>\n",
       "      <td>nee</td>\n",
       "      <td>45000.0</td>\n",
       "      <td>groen</td>\n",
       "      <td>300.0</td>\n",
       "      <td>ja</td>\n",
       "      <td>nee</td>\n",
       "      <td>7.0</td>\n",
       "    </tr>\n",
       "  </tbody>\n",
       "</table>"
      ],
      "text/plain": [
       "<IPython.core.display.HTML object>"
      ]
     },
     "metadata": {},
     "output_type": "display_data"
    }
   ],
   "source": [
    "# Select number of vehicles and type in fleet\n",
    "nr_of_vehicles = int(input('Aantal voertuigen: '))\n",
    "\n",
    "# read vehicle details\n",
    "vehicle = read_vehicle_details(nr_of_vehicles)\n",
    "\n",
    "# Convert the vehicle dictionary into dataframe \n",
    "df = pd.DataFrame([vehicle[1]],\n",
    "                  columns= vehicle[0])       \n",
    "\n",
    "for i in range(1,nr_of_vehicles):\n",
    "    df.loc[i] = vehicle[i+1]\n",
    "\n",
    "# display dataframe\n",
    "display(HTML(df.to_html()))"
   ]
  },
  {
   "cell_type": "markdown",
   "metadata": {
    "slideshow": {
     "slide_type": "skip"
    }
   },
   "source": [
    "Calculate the results."
   ]
  },
  {
   "cell_type": "code",
   "execution_count": 40,
   "metadata": {
    "slideshow": {
     "slide_type": "skip"
    }
   },
   "outputs": [
    {
     "data": {
      "text/html": [
       "<table border=\"1\" class=\"dataframe\">\n",
       "  <thead>\n",
       "    <tr style=\"text-align: right;\">\n",
       "      <th></th>\n",
       "      <th>tco</th>\n",
       "      <th>a</th>\n",
       "      <th>b</th>\n",
       "      <th>c</th>\n",
       "      <th>d</th>\n",
       "      <th>e</th>\n",
       "      <th>co2</th>\n",
       "    </tr>\n",
       "  </thead>\n",
       "  <tbody>\n",
       "    <tr>\n",
       "      <th>2021</th>\n",
       "      <td>109197.8830</td>\n",
       "      <td>4669.8770</td>\n",
       "      <td>15522.2291</td>\n",
       "      <td>0.0</td>\n",
       "      <td>73944.0</td>\n",
       "      <td>15061.7770</td>\n",
       "      <td>11.608528</td>\n",
       "    </tr>\n",
       "    <tr>\n",
       "      <th>2022</th>\n",
       "      <td>109197.8830</td>\n",
       "      <td>4669.8770</td>\n",
       "      <td>15522.2291</td>\n",
       "      <td>0.0</td>\n",
       "      <td>73944.0</td>\n",
       "      <td>15061.7770</td>\n",
       "      <td>11.608528</td>\n",
       "    </tr>\n",
       "    <tr>\n",
       "      <th>2023</th>\n",
       "      <td>109197.8830</td>\n",
       "      <td>4669.8770</td>\n",
       "      <td>15522.2291</td>\n",
       "      <td>0.0</td>\n",
       "      <td>73944.0</td>\n",
       "      <td>15061.7770</td>\n",
       "      <td>11.608528</td>\n",
       "    </tr>\n",
       "    <tr>\n",
       "      <th>2024</th>\n",
       "      <td>109197.8830</td>\n",
       "      <td>4669.8770</td>\n",
       "      <td>15522.2291</td>\n",
       "      <td>0.0</td>\n",
       "      <td>73944.0</td>\n",
       "      <td>15061.7770</td>\n",
       "      <td>11.608528</td>\n",
       "    </tr>\n",
       "    <tr>\n",
       "      <th>2025</th>\n",
       "      <td>109197.8830</td>\n",
       "      <td>4669.8770</td>\n",
       "      <td>15522.2291</td>\n",
       "      <td>0.0</td>\n",
       "      <td>73944.0</td>\n",
       "      <td>15061.7770</td>\n",
       "      <td>11.608528</td>\n",
       "    </tr>\n",
       "    <tr>\n",
       "      <th>2026</th>\n",
       "      <td>115263.7691</td>\n",
       "      <td>5318.6397</td>\n",
       "      <td>20102.6785</td>\n",
       "      <td>0.0</td>\n",
       "      <td>73944.0</td>\n",
       "      <td>15898.4509</td>\n",
       "      <td>11.608528</td>\n",
       "    </tr>\n",
       "    <tr>\n",
       "      <th>2027</th>\n",
       "      <td>114127.4508</td>\n",
       "      <td>5954.4484</td>\n",
       "      <td>18040.2850</td>\n",
       "      <td>447.0</td>\n",
       "      <td>73944.0</td>\n",
       "      <td>15741.7173</td>\n",
       "      <td>4.052855</td>\n",
       "    </tr>\n",
       "    <tr>\n",
       "      <th>2028</th>\n",
       "      <td>114127.4508</td>\n",
       "      <td>5954.4484</td>\n",
       "      <td>18040.2850</td>\n",
       "      <td>447.0</td>\n",
       "      <td>73944.0</td>\n",
       "      <td>15741.7173</td>\n",
       "      <td>4.052855</td>\n",
       "    </tr>\n",
       "    <tr>\n",
       "      <th>2029</th>\n",
       "      <td>114127.4508</td>\n",
       "      <td>5954.4484</td>\n",
       "      <td>18040.2850</td>\n",
       "      <td>447.0</td>\n",
       "      <td>73944.0</td>\n",
       "      <td>15741.7173</td>\n",
       "      <td>4.052855</td>\n",
       "    </tr>\n",
       "    <tr>\n",
       "      <th>2030</th>\n",
       "      <td>114127.4508</td>\n",
       "      <td>5954.4484</td>\n",
       "      <td>18040.2850</td>\n",
       "      <td>447.0</td>\n",
       "      <td>73944.0</td>\n",
       "      <td>15741.7173</td>\n",
       "      <td>4.052855</td>\n",
       "    </tr>\n",
       "    <tr>\n",
       "      <th>2031</th>\n",
       "      <td>114127.4508</td>\n",
       "      <td>5954.4484</td>\n",
       "      <td>18040.2850</td>\n",
       "      <td>447.0</td>\n",
       "      <td>73944.0</td>\n",
       "      <td>15741.7173</td>\n",
       "      <td>4.052855</td>\n",
       "    </tr>\n",
       "    <tr>\n",
       "      <th>2032</th>\n",
       "      <td>114127.4508</td>\n",
       "      <td>5954.4484</td>\n",
       "      <td>18040.2850</td>\n",
       "      <td>447.0</td>\n",
       "      <td>73944.0</td>\n",
       "      <td>15741.7173</td>\n",
       "      <td>4.052855</td>\n",
       "    </tr>\n",
       "    <tr>\n",
       "      <th>2033</th>\n",
       "      <td>114127.4508</td>\n",
       "      <td>5954.4484</td>\n",
       "      <td>18040.2850</td>\n",
       "      <td>447.0</td>\n",
       "      <td>73944.0</td>\n",
       "      <td>15741.7173</td>\n",
       "      <td>4.052855</td>\n",
       "    </tr>\n",
       "    <tr>\n",
       "      <th>2034</th>\n",
       "      <td>108769.2425</td>\n",
       "      <td>2624.3935</td>\n",
       "      <td>11485.6949</td>\n",
       "      <td>5712.5</td>\n",
       "      <td>73944.0</td>\n",
       "      <td>15002.6541</td>\n",
       "      <td>4.121392</td>\n",
       "    </tr>\n",
       "    <tr>\n",
       "      <th>2035</th>\n",
       "      <td>108769.2425</td>\n",
       "      <td>2624.3935</td>\n",
       "      <td>11485.6949</td>\n",
       "      <td>5712.5</td>\n",
       "      <td>73944.0</td>\n",
       "      <td>15002.6541</td>\n",
       "      <td>4.121392</td>\n",
       "    </tr>\n",
       "  </tbody>\n",
       "</table>"
      ],
      "text/plain": [
       "<IPython.core.display.HTML object>"
      ]
     },
     "metadata": {},
     "output_type": "display_data"
    }
   ],
   "source": [
    "# parameters\n",
    "extra_years = 3\n",
    "nr_of_strategies = 4\n",
    "\n",
    "# initiate vectors\n",
    "collection_of_vehicles = {}\n",
    "\n",
    "# call different strategies for all vehicles\n",
    "for i in range(nr_of_vehicles):\n",
    "    age = write_vehicle_details(vehicle,i+1)\n",
    "    name = 'voertuig {}'.format(i+1)\n",
    "    collection_of_vehicles[name] = call_strategies(nr_of_strategies,age, extra_years)\n",
    "\n",
    "# example\n",
    "df = collection_of_vehicles['voertuig 5']['strategie 4']\n",
    "display(HTML(df.to_html()))"
   ]
  },
  {
   "cell_type": "markdown",
   "metadata": {
    "slideshow": {
     "slide_type": "skip"
    }
   },
   "source": [
    "Put the yearly average tco and co2 in a data frame."
   ]
  },
  {
   "cell_type": "code",
   "execution_count": 41,
   "metadata": {
    "slideshow": {
     "slide_type": "skip"
    }
   },
   "outputs": [
    {
     "data": {
      "text/html": [
       "<div>\n",
       "<style scoped>\n",
       "    .dataframe tbody tr th:only-of-type {\n",
       "        vertical-align: middle;\n",
       "    }\n",
       "\n",
       "    .dataframe tbody tr th {\n",
       "        vertical-align: top;\n",
       "    }\n",
       "\n",
       "    .dataframe thead th {\n",
       "        text-align: right;\n",
       "    }\n",
       "</style>\n",
       "<table border=\"1\" class=\"dataframe\">\n",
       "  <thead>\n",
       "    <tr style=\"text-align: right;\">\n",
       "      <th></th>\n",
       "      <th>strategie</th>\n",
       "      <th>TCO kosten</th>\n",
       "      <th>CO2 uitstoot</th>\n",
       "    </tr>\n",
       "  </thead>\n",
       "  <tbody>\n",
       "    <tr>\n",
       "      <th>0</th>\n",
       "      <td>1</td>\n",
       "      <td>115773.035247</td>\n",
       "      <td>5.060278</td>\n",
       "    </tr>\n",
       "    <tr>\n",
       "      <th>1</th>\n",
       "      <td>2</td>\n",
       "      <td>112125.580933</td>\n",
       "      <td>6.585120</td>\n",
       "    </tr>\n",
       "    <tr>\n",
       "      <th>2</th>\n",
       "      <td>3</td>\n",
       "      <td>107998.483660</td>\n",
       "      <td>8.586259</td>\n",
       "    </tr>\n",
       "    <tr>\n",
       "      <th>3</th>\n",
       "      <td>4</td>\n",
       "      <td>111886.208867</td>\n",
       "      <td>7.084262</td>\n",
       "    </tr>\n",
       "  </tbody>\n",
       "</table>\n",
       "</div>"
      ],
      "text/plain": [
       "  strategie     TCO kosten  CO2 uitstoot\n",
       "0         1  115773.035247      5.060278\n",
       "1         2  112125.580933      6.585120\n",
       "2         3  107998.483660      8.586259\n",
       "3         4  111886.208867      7.084262"
      ]
     },
     "execution_count": 41,
     "metadata": {},
     "output_type": "execute_result"
    }
   ],
   "source": [
    "def get_yearly_average(result,nr_of_strategies,years = nr_of_years):\n",
    "    \n",
    "    # convert list to float type for plotting\n",
    "    tco = []\n",
    "    co2 = []\n",
    "    for i in range(nr_of_strategies):\n",
    "        strategie = 'strategie {}'.format(i+1)\n",
    "        tco.append(avg(result[strategie]['tco'],years));\n",
    "        co2.append(avg(result[strategie]['co2'],years));\n",
    "\n",
    "    # Make data frame\n",
    "    df = pd.DataFrame({'strategie':['1','2', '3', '4'],\n",
    "                       'TCO kosten':[tco[0],tco[1],tco[2],tco[3]],\n",
    "                       'CO2 uitstoot':[co2[0],co2[1],co2[2],co2[3]]})\n",
    "    \n",
    "    return df\n",
    "\n",
    "# example\n",
    "get_yearly_average(result,4)"
   ]
  },
  {
   "cell_type": "markdown",
   "metadata": {
    "slideshow": {
     "slide_type": "skip"
    }
   },
   "source": [
    "Put the yearly tco and co2 for each strategy in one data frame."
   ]
  },
  {
   "cell_type": "code",
   "execution_count": 60,
   "metadata": {
    "slideshow": {
     "slide_type": "skip"
    }
   },
   "outputs": [
    {
     "data": {
      "text/html": [
       "<div>\n",
       "<style scoped>\n",
       "    .dataframe tbody tr th:only-of-type {\n",
       "        vertical-align: middle;\n",
       "    }\n",
       "\n",
       "    .dataframe tbody tr th {\n",
       "        vertical-align: top;\n",
       "    }\n",
       "\n",
       "    .dataframe thead th {\n",
       "        text-align: right;\n",
       "    }\n",
       "</style>\n",
       "<table border=\"1\" class=\"dataframe\">\n",
       "  <thead>\n",
       "    <tr style=\"text-align: right;\">\n",
       "      <th></th>\n",
       "      <th>TCO kosten strategie 1</th>\n",
       "      <th>CO2 uitstoot strategie 1</th>\n",
       "      <th>TCO kosten strategie 2</th>\n",
       "      <th>CO2 uitstoot strategie 2</th>\n",
       "      <th>TCO kosten strategie 3</th>\n",
       "      <th>CO2 uitstoot strategie 3</th>\n",
       "      <th>TCO kosten strategie 4</th>\n",
       "      <th>CO2 uitstoot strategie 4</th>\n",
       "    </tr>\n",
       "  </thead>\n",
       "  <tbody>\n",
       "    <tr>\n",
       "      <th>2021</th>\n",
       "      <td>109197.8830</td>\n",
       "      <td>11.608528</td>\n",
       "      <td>107434.7354</td>\n",
       "      <td>11.608528</td>\n",
       "      <td>109197.8830</td>\n",
       "      <td>11.608528</td>\n",
       "      <td>109197.8830</td>\n",
       "      <td>11.608528</td>\n",
       "    </tr>\n",
       "    <tr>\n",
       "      <th>2022</th>\n",
       "      <td>109197.8830</td>\n",
       "      <td>11.608528</td>\n",
       "      <td>107434.7354</td>\n",
       "      <td>11.608528</td>\n",
       "      <td>109197.8830</td>\n",
       "      <td>11.608528</td>\n",
       "      <td>109197.8830</td>\n",
       "      <td>11.608528</td>\n",
       "    </tr>\n",
       "    <tr>\n",
       "      <th>2023</th>\n",
       "      <td>125094.1229</td>\n",
       "      <td>4.052855</td>\n",
       "      <td>108304.7354</td>\n",
       "      <td>11.608528</td>\n",
       "      <td>108434.3695</td>\n",
       "      <td>11.608528</td>\n",
       "      <td>110866.6816</td>\n",
       "      <td>11.608528</td>\n",
       "    </tr>\n",
       "    <tr>\n",
       "      <th>2024</th>\n",
       "      <td>125094.1229</td>\n",
       "      <td>4.052855</td>\n",
       "      <td>109609.7354</td>\n",
       "      <td>11.608528</td>\n",
       "      <td>108434.3695</td>\n",
       "      <td>11.608528</td>\n",
       "      <td>110866.6816</td>\n",
       "      <td>11.608528</td>\n",
       "    </tr>\n",
       "    <tr>\n",
       "      <th>2025</th>\n",
       "      <td>125094.1229</td>\n",
       "      <td>4.052855</td>\n",
       "      <td>111567.2354</td>\n",
       "      <td>11.608528</td>\n",
       "      <td>108434.3695</td>\n",
       "      <td>11.608528</td>\n",
       "      <td>110866.6816</td>\n",
       "      <td>11.608528</td>\n",
       "    </tr>\n",
       "    <tr>\n",
       "      <th>2026</th>\n",
       "      <td>125094.1229</td>\n",
       "      <td>4.052855</td>\n",
       "      <td>115381.6288</td>\n",
       "      <td>4.052855</td>\n",
       "      <td>108434.3695</td>\n",
       "      <td>11.608528</td>\n",
       "      <td>110866.6816</td>\n",
       "      <td>11.608528</td>\n",
       "    </tr>\n",
       "    <tr>\n",
       "      <th>2027</th>\n",
       "      <td>125094.1229</td>\n",
       "      <td>4.052855</td>\n",
       "      <td>115381.6288</td>\n",
       "      <td>4.052855</td>\n",
       "      <td>108434.3695</td>\n",
       "      <td>11.608528</td>\n",
       "      <td>114127.4508</td>\n",
       "      <td>4.052855</td>\n",
       "    </tr>\n",
       "    <tr>\n",
       "      <th>2028</th>\n",
       "      <td>125094.1229</td>\n",
       "      <td>4.052855</td>\n",
       "      <td>115381.6288</td>\n",
       "      <td>4.052855</td>\n",
       "      <td>108434.3695</td>\n",
       "      <td>11.608528</td>\n",
       "      <td>114127.4508</td>\n",
       "      <td>4.052855</td>\n",
       "    </tr>\n",
       "    <tr>\n",
       "      <th>2029</th>\n",
       "      <td>125094.1229</td>\n",
       "      <td>4.052855</td>\n",
       "      <td>115381.6288</td>\n",
       "      <td>4.052855</td>\n",
       "      <td>108434.3695</td>\n",
       "      <td>11.608528</td>\n",
       "      <td>114127.4508</td>\n",
       "      <td>4.052855</td>\n",
       "    </tr>\n",
       "    <tr>\n",
       "      <th>2030</th>\n",
       "      <td>107090.1504</td>\n",
       "      <td>4.052855</td>\n",
       "      <td>115381.6288</td>\n",
       "      <td>4.052855</td>\n",
       "      <td>107090.1504</td>\n",
       "      <td>4.052855</td>\n",
       "      <td>114127.4508</td>\n",
       "      <td>4.052855</td>\n",
       "    </tr>\n",
       "    <tr>\n",
       "      <th>2031</th>\n",
       "      <td>107090.1504</td>\n",
       "      <td>4.052855</td>\n",
       "      <td>115381.6288</td>\n",
       "      <td>4.052855</td>\n",
       "      <td>107090.1504</td>\n",
       "      <td>4.052855</td>\n",
       "      <td>114127.4508</td>\n",
       "      <td>4.052855</td>\n",
       "    </tr>\n",
       "    <tr>\n",
       "      <th>2032</th>\n",
       "      <td>107090.1504</td>\n",
       "      <td>4.052855</td>\n",
       "      <td>115381.6288</td>\n",
       "      <td>4.052855</td>\n",
       "      <td>107090.1504</td>\n",
       "      <td>4.052855</td>\n",
       "      <td>114127.4508</td>\n",
       "      <td>4.052855</td>\n",
       "    </tr>\n",
       "    <tr>\n",
       "      <th>2033</th>\n",
       "      <td>107090.1504</td>\n",
       "      <td>4.052855</td>\n",
       "      <td>109953.7118</td>\n",
       "      <td>4.121392</td>\n",
       "      <td>107090.1504</td>\n",
       "      <td>4.052855</td>\n",
       "      <td>114127.4508</td>\n",
       "      <td>4.052855</td>\n",
       "    </tr>\n",
       "    <tr>\n",
       "      <th>2034</th>\n",
       "      <td>107090.1504</td>\n",
       "      <td>4.052855</td>\n",
       "      <td>109953.7118</td>\n",
       "      <td>4.121392</td>\n",
       "      <td>107090.1504</td>\n",
       "      <td>4.052855</td>\n",
       "      <td>108769.2425</td>\n",
       "      <td>4.121392</td>\n",
       "    </tr>\n",
       "    <tr>\n",
       "      <th>2035</th>\n",
       "      <td>107090.1504</td>\n",
       "      <td>4.052855</td>\n",
       "      <td>109953.7118</td>\n",
       "      <td>4.121392</td>\n",
       "      <td>107090.1504</td>\n",
       "      <td>4.052855</td>\n",
       "      <td>108769.2425</td>\n",
       "      <td>4.121392</td>\n",
       "    </tr>\n",
       "  </tbody>\n",
       "</table>\n",
       "</div>"
      ],
      "text/plain": [
       "      TCO kosten strategie 1  CO2 uitstoot strategie 1  \\\n",
       "2021             109197.8830                 11.608528   \n",
       "2022             109197.8830                 11.608528   \n",
       "2023             125094.1229                  4.052855   \n",
       "2024             125094.1229                  4.052855   \n",
       "2025             125094.1229                  4.052855   \n",
       "2026             125094.1229                  4.052855   \n",
       "2027             125094.1229                  4.052855   \n",
       "2028             125094.1229                  4.052855   \n",
       "2029             125094.1229                  4.052855   \n",
       "2030             107090.1504                  4.052855   \n",
       "2031             107090.1504                  4.052855   \n",
       "2032             107090.1504                  4.052855   \n",
       "2033             107090.1504                  4.052855   \n",
       "2034             107090.1504                  4.052855   \n",
       "2035             107090.1504                  4.052855   \n",
       "\n",
       "      TCO kosten strategie 2  CO2 uitstoot strategie 2  \\\n",
       "2021             107434.7354                 11.608528   \n",
       "2022             107434.7354                 11.608528   \n",
       "2023             108304.7354                 11.608528   \n",
       "2024             109609.7354                 11.608528   \n",
       "2025             111567.2354                 11.608528   \n",
       "2026             115381.6288                  4.052855   \n",
       "2027             115381.6288                  4.052855   \n",
       "2028             115381.6288                  4.052855   \n",
       "2029             115381.6288                  4.052855   \n",
       "2030             115381.6288                  4.052855   \n",
       "2031             115381.6288                  4.052855   \n",
       "2032             115381.6288                  4.052855   \n",
       "2033             109953.7118                  4.121392   \n",
       "2034             109953.7118                  4.121392   \n",
       "2035             109953.7118                  4.121392   \n",
       "\n",
       "      TCO kosten strategie 3  CO2 uitstoot strategie 3  \\\n",
       "2021             109197.8830                 11.608528   \n",
       "2022             109197.8830                 11.608528   \n",
       "2023             108434.3695                 11.608528   \n",
       "2024             108434.3695                 11.608528   \n",
       "2025             108434.3695                 11.608528   \n",
       "2026             108434.3695                 11.608528   \n",
       "2027             108434.3695                 11.608528   \n",
       "2028             108434.3695                 11.608528   \n",
       "2029             108434.3695                 11.608528   \n",
       "2030             107090.1504                  4.052855   \n",
       "2031             107090.1504                  4.052855   \n",
       "2032             107090.1504                  4.052855   \n",
       "2033             107090.1504                  4.052855   \n",
       "2034             107090.1504                  4.052855   \n",
       "2035             107090.1504                  4.052855   \n",
       "\n",
       "      TCO kosten strategie 4  CO2 uitstoot strategie 4  \n",
       "2021             109197.8830                 11.608528  \n",
       "2022             109197.8830                 11.608528  \n",
       "2023             110866.6816                 11.608528  \n",
       "2024             110866.6816                 11.608528  \n",
       "2025             110866.6816                 11.608528  \n",
       "2026             110866.6816                 11.608528  \n",
       "2027             114127.4508                  4.052855  \n",
       "2028             114127.4508                  4.052855  \n",
       "2029             114127.4508                  4.052855  \n",
       "2030             114127.4508                  4.052855  \n",
       "2031             114127.4508                  4.052855  \n",
       "2032             114127.4508                  4.052855  \n",
       "2033             114127.4508                  4.052855  \n",
       "2034             108769.2425                  4.121392  \n",
       "2035             108769.2425                  4.121392  "
      ]
     },
     "execution_count": 60,
     "metadata": {},
     "output_type": "execute_result"
    }
   ],
   "source": [
    "def get_yearly_costs(result,nr_of_strategies):\n",
    "    \n",
    "    # convert list to float type for plotting\n",
    "\n",
    "    # Make data frame\n",
    "    df = pd.DataFrame({'TCO kosten strategie 1':result['strategie 1']['tco'],\n",
    "                       'CO2 uitstoot strategie 1':result['strategie 1']['co2']},\n",
    "                       index = year)    \n",
    "    \n",
    "    for i in range(1,nr_of_strategies):    \n",
    "        strategie = 'strategie {}'.format(i+1)\n",
    "        df['TCO kosten strategie {}'.format(i+1)] = result[strategie]['tco']\n",
    "        df['CO2 uitstoot strategie {}'.format(i+1)] = result[strategie]['co2']\n",
    "    \n",
    "    return df\n",
    "\n",
    "# example for vehicle 1\n",
    "get_yearly_costs(result,4)"
   ]
  },
  {
   "cell_type": "markdown",
   "metadata": {
    "slideshow": {
     "slide_type": "slide"
    }
   },
   "source": [
    "Put the total tco costs per vehicle in table format"
   ]
  },
  {
   "cell_type": "code",
   "execution_count": 62,
   "metadata": {
    "slideshow": {
     "slide_type": "fragment"
    }
   },
   "outputs": [
    {
     "data": {
      "text/html": [
       "<table border=\"1\" class=\"dataframe\">\n",
       "  <thead>\n",
       "    <tr style=\"text-align: right;\">\n",
       "      <th></th>\n",
       "      <th>strategie</th>\n",
       "      <th>voertuig 1</th>\n",
       "      <th>voertuig 2</th>\n",
       "      <th>voertuig 3</th>\n",
       "      <th>voertuig 4</th>\n",
       "      <th>voertuig 5</th>\n",
       "      <th>voertuig 6</th>\n",
       "    </tr>\n",
       "  </thead>\n",
       "  <tbody>\n",
       "    <tr>\n",
       "      <th>0</th>\n",
       "      <td>1</td>\n",
       "      <td>135594.803220</td>\n",
       "      <td>132102.630247</td>\n",
       "      <td>115773.035247</td>\n",
       "      <td>137351.99428</td>\n",
       "      <td>112234.796800</td>\n",
       "      <td>133710.625193</td>\n",
       "    </tr>\n",
       "    <tr>\n",
       "      <th>1</th>\n",
       "      <td>2</td>\n",
       "      <td>129759.602533</td>\n",
       "      <td>126735.968607</td>\n",
       "      <td>112125.580933</td>\n",
       "      <td>137351.99428</td>\n",
       "      <td>111234.154827</td>\n",
       "      <td>127663.619960</td>\n",
       "    </tr>\n",
       "    <tr>\n",
       "      <th>2</th>\n",
       "      <td>3</td>\n",
       "      <td>123961.839873</td>\n",
       "      <td>123266.500100</td>\n",
       "      <td>107998.483660</td>\n",
       "      <td>137351.99428</td>\n",
       "      <td>109244.607967</td>\n",
       "      <td>122882.189580</td>\n",
       "    </tr>\n",
       "    <tr>\n",
       "      <th>3</th>\n",
       "      <td>4</td>\n",
       "      <td>128544.909613</td>\n",
       "      <td>128715.830167</td>\n",
       "      <td>111886.208867</td>\n",
       "      <td>137351.99428</td>\n",
       "      <td>111845.588313</td>\n",
       "      <td>128373.991593</td>\n",
       "    </tr>\n",
       "  </tbody>\n",
       "</table>"
      ],
      "text/plain": [
       "<IPython.core.display.HTML object>"
      ]
     },
     "metadata": {},
     "output_type": "display_data"
    }
   ],
   "source": [
    "# make table of results\n",
    "\n",
    "# Convert the dictionary into DataFrame \n",
    "data = {'strategie': ['1', '2', '3', '4']} \n",
    "  \n",
    "# Convert the dictionary into DataFrame \n",
    "df = pd.DataFrame(data) \n",
    "  \n",
    "# Declare a list that is to be converted into a column \n",
    "for i in range(0,nr_of_vehicles):\n",
    "    tco_vehicle = get_yearly_average(collection_of_vehicles['voertuig {}'.format(i+1)],nr_of_strategies)\n",
    "    # add vehicle to data frame\n",
    "    df['voertuig {}'.format(i+1)] = tco_vehicle['TCO kosten'] \n",
    "\n",
    "display(HTML(df.to_html()))"
   ]
  },
  {
   "cell_type": "markdown",
   "metadata": {
    "slideshow": {
     "slide_type": "slide"
    }
   },
   "source": [
    "Plot the average yearly tco costs until 2035 (or a different number of years) for each strategy in a bar plot. Also show how the emissions per strategy differ for wach strategy. "
   ]
  },
  {
   "cell_type": "code",
   "execution_count": 63,
   "metadata": {
    "slideshow": {
     "slide_type": "fragment"
    }
   },
   "outputs": [
    {
     "data": {
      "image/png": "[encoded data removed]",
      "text/plain": [
       "<Figure size 720x1296 with 12 Axes>"
      ]
     },
     "metadata": {
      "needs_background": "light"
     },
     "output_type": "display_data"
    }
   ],
   "source": [
    "# initiate subplots\n",
    "fig, axes = plt.subplots(figsize = (10,3*nr_of_vehicles),nrows=nr_of_vehicles, ncols=2)\n",
    "\n",
    "# set colors\n",
    "#colors = {1: 'r', 2: 'b', 3: 'g', 4:'r'}\n",
    "\n",
    "for i in range(nr_of_vehicles):\n",
    "    # plot results\n",
    "    df = get_yearly_average(collection_of_vehicles['voertuig {}'.format(i+1)],nr_of_strategies)\n",
    "    df['TCO kosten'].plot(ax=axes[i][0],x='strategie', y='TCO kosten',kind='bar',rot=0,color='r') #[colors[i] for i in df['strategie']]) \n",
    "    df['CO2 uitstoot'].plot(ax=axes[i][1],x='strategie', y='CO2 uitstoot',kind='bar',rot=0,color='b')\n",
    "    \n",
    "    axes[i][0].set_xlabel(r\"strategie\")\n",
    "    axes[i][1].set_xlabel(r\"strategie\")\n",
    "    axes[i][0].set_ylabel(r\"TCO per jaar (euro)\")\n",
    "    axes[i][1].set_ylabel(r\"CO_2 per jaar (ton)\")\n",
    "    axes[i][0].set_title(r'gemiddelde jaarlijkse kosten voertuig {}'.format(i+1))\n",
    "    axes[i][1].set_title('gemiddelde jaarlijkse uitstoot voertuig {}'.format(i+1))    \n",
    "\n",
    "# set labels between graphs non-visible\n",
    "for i in range(0,nr_of_vehicles-1):\n",
    "    axes[i][0].xaxis.set_visible(False)\n",
    "    axes[i][1].xaxis.set_visible(False)\n",
    "\n",
    "plt.show()  "
   ]
  },
  {
   "cell_type": "markdown",
   "metadata": {},
   "source": [
    "For one vehicle compare the different strategies."
   ]
  },
  {
   "cell_type": "code",
   "execution_count": 117,
   "metadata": {},
   "outputs": [
    {
     "data": {
      "image/png": "[encoded data removed]",
      "text/plain": [
       "<Figure size 1080x360 with 2 Axes>"
      ]
     },
     "metadata": {
      "needs_background": "light"
     },
     "output_type": "display_data"
    }
   ],
   "source": [
    "# initiate subplots\n",
    "fig, axes = plt.subplots(figsize = (15,5),nrows=1, ncols=2)\n",
    "nr_of_strategies = 4\n",
    "nr_of_vehicles = 6 # N.B. haal weg\n",
    "\n",
    "# plot tco and co2 over the years\n",
    "for i in range(nr_of_strategies):\n",
    "    strat = 'strategie {}'.format(i+1)\n",
    "    for j in range(1):\n",
    "        vt= 'voertuig {}'.format(j+1)\n",
    "        df = get_yearly_costs(collection_of_vehicles[vt],4)\n",
    "        df['TCO kosten ' + strat].plot(ax=axes[0],x=year, y='TCO kosten',kind='line',rot=0) \n",
    "        df['CO2 uitstoot ' + strat].plot(ax=axes[1],x=year, y='CO2 uitstoot',kind='line',rot=0,label=strat)\n",
    "\n",
    "# set labels\n",
    "axes[0].set_ylabel(r\"TCO per jaar (euro)\")\n",
    "axes[1].set_ylabel(r\"CO_2 per jaar (ton)\")\n",
    "axes[0].set_title(r'jaarlijkse kosten ' + vt)\n",
    "axes[1].set_title('jaarlijkse uitstoot ' + vt)   \n",
    "\n",
    "# set legend\n",
    "axes[1].legend(loc='upper center', bbox_to_anchor=(1.3, 1));\n",
    "\n",
    "plt.show() "
   ]
  },
  {
   "cell_type": "markdown",
   "metadata": {},
   "source": [
    "Put together the results for the whole fleet in one diagram."
   ]
  },
  {
   "cell_type": "code",
   "execution_count": 64,
   "metadata": {},
   "outputs": [
    {
     "data": {
      "text/html": [
       "<table border=\"1\" class=\"dataframe\">\n",
       "  <thead>\n",
       "    <tr style=\"text-align: right;\">\n",
       "      <th></th>\n",
       "      <th>strategie</th>\n",
       "      <th>TCO kosten</th>\n",
       "      <th>CO2 uitstoot</th>\n",
       "    </tr>\n",
       "  </thead>\n",
       "  <tbody>\n",
       "    <tr>\n",
       "      <th>0</th>\n",
       "      <td>1</td>\n",
       "      <td>766767.884987</td>\n",
       "      <td>63.680635</td>\n",
       "    </tr>\n",
       "    <tr>\n",
       "      <th>1</th>\n",
       "      <td>2</td>\n",
       "      <td>744870.921140</td>\n",
       "      <td>75.159067</td>\n",
       "    </tr>\n",
       "    <tr>\n",
       "      <th>2</th>\n",
       "      <td>3</td>\n",
       "      <td>724705.615460</td>\n",
       "      <td>92.688117</td>\n",
       "    </tr>\n",
       "    <tr>\n",
       "      <th>3</th>\n",
       "      <td>4</td>\n",
       "      <td>746718.522833</td>\n",
       "      <td>78.830663</td>\n",
       "    </tr>\n",
       "  </tbody>\n",
       "</table>"
      ],
      "text/plain": [
       "<IPython.core.display.HTML object>"
      ]
     },
     "metadata": {},
     "output_type": "display_data"
    },
    {
     "data": {
      "text/html": [
       "<table border=\"1\" class=\"dataframe\">\n",
       "  <thead>\n",
       "    <tr style=\"text-align: right;\">\n",
       "      <th></th>\n",
       "      <th>TCO kosten strategie 1</th>\n",
       "      <th>CO2 uitstoot strategie 1</th>\n",
       "      <th>TCO kosten strategie 2</th>\n",
       "      <th>CO2 uitstoot strategie 2</th>\n",
       "      <th>TCO kosten strategie 3</th>\n",
       "      <th>CO2 uitstoot strategie 3</th>\n",
       "      <th>TCO kosten strategie 4</th>\n",
       "      <th>CO2 uitstoot strategie 4</th>\n",
       "    </tr>\n",
       "  </thead>\n",
       "  <tbody>\n",
       "    <tr>\n",
       "      <th>2021</th>\n",
       "      <td>731910.2568</td>\n",
       "      <td>130.178168</td>\n",
       "      <td>719751.9317</td>\n",
       "      <td>130.178168</td>\n",
       "      <td>731910.2568</td>\n",
       "      <td>130.178168</td>\n",
       "      <td>731910.2568</td>\n",
       "      <td>130.178168</td>\n",
       "    </tr>\n",
       "    <tr>\n",
       "      <th>2022</th>\n",
       "      <td>756838.0354</td>\n",
       "      <td>114.495654</td>\n",
       "      <td>720621.9317</td>\n",
       "      <td>130.178168</td>\n",
       "      <td>731910.2568</td>\n",
       "      <td>130.178168</td>\n",
       "      <td>734879.5499</td>\n",
       "      <td>130.178168</td>\n",
       "    </tr>\n",
       "    <tr>\n",
       "      <th>2023</th>\n",
       "      <td>794533.2706</td>\n",
       "      <td>91.257466</td>\n",
       "      <td>723666.9317</td>\n",
       "      <td>130.178168</td>\n",
       "      <td>729741.9480</td>\n",
       "      <td>130.178168</td>\n",
       "      <td>739619.0223</td>\n",
       "      <td>130.178168</td>\n",
       "    </tr>\n",
       "    <tr>\n",
       "      <th>2024</th>\n",
       "      <td>812671.1087</td>\n",
       "      <td>75.574952</td>\n",
       "      <td>729104.4317</td>\n",
       "      <td>130.178168</td>\n",
       "      <td>728945.2215</td>\n",
       "      <td>130.178168</td>\n",
       "      <td>745422.4469</td>\n",
       "      <td>130.178168</td>\n",
       "    </tr>\n",
       "    <tr>\n",
       "      <th>2025</th>\n",
       "      <td>812671.1087</td>\n",
       "      <td>75.574952</td>\n",
       "      <td>748492.6805</td>\n",
       "      <td>114.495654</td>\n",
       "      <td>728945.2215</td>\n",
       "      <td>130.178168</td>\n",
       "      <td>745422.4469</td>\n",
       "      <td>130.178168</td>\n",
       "    </tr>\n",
       "    <tr>\n",
       "      <th>2026</th>\n",
       "      <td>818854.8545</td>\n",
       "      <td>68.019279</td>\n",
       "      <td>765389.1640</td>\n",
       "      <td>91.392283</td>\n",
       "      <td>728721.4198</td>\n",
       "      <td>130.178168</td>\n",
       "      <td>751488.3330</td>\n",
       "      <td>130.178168</td>\n",
       "    </tr>\n",
       "    <tr>\n",
       "      <th>2027</th>\n",
       "      <td>819450.8889</td>\n",
       "      <td>44.164083</td>\n",
       "      <td>778824.9322</td>\n",
       "      <td>44.433715</td>\n",
       "      <td>729317.4542</td>\n",
       "      <td>106.322973</td>\n",
       "      <td>769383.0419</td>\n",
       "      <td>44.568532</td>\n",
       "    </tr>\n",
       "    <tr>\n",
       "      <th>2028</th>\n",
       "      <td>819450.8889</td>\n",
       "      <td>44.164083</td>\n",
       "      <td>778824.9322</td>\n",
       "      <td>44.433715</td>\n",
       "      <td>729317.4542</td>\n",
       "      <td>106.322973</td>\n",
       "      <td>769383.0419</td>\n",
       "      <td>44.568532</td>\n",
       "    </tr>\n",
       "    <tr>\n",
       "      <th>2029</th>\n",
       "      <td>792873.7786</td>\n",
       "      <td>44.298899</td>\n",
       "      <td>778824.9322</td>\n",
       "      <td>44.433715</td>\n",
       "      <td>727668.1225</td>\n",
       "      <td>90.775274</td>\n",
       "      <td>769383.0419</td>\n",
       "      <td>44.568532</td>\n",
       "    </tr>\n",
       "    <tr>\n",
       "      <th>2030</th>\n",
       "      <td>750086.3926</td>\n",
       "      <td>44.433715</td>\n",
       "      <td>778824.9322</td>\n",
       "      <td>44.433715</td>\n",
       "      <td>724744.2805</td>\n",
       "      <td>67.671903</td>\n",
       "      <td>769383.0419</td>\n",
       "      <td>44.568532</td>\n",
       "    </tr>\n",
       "    <tr>\n",
       "      <th>2031</th>\n",
       "      <td>728668.8879</td>\n",
       "      <td>44.568532</td>\n",
       "      <td>778824.9322</td>\n",
       "      <td>44.433715</td>\n",
       "      <td>722261.3404</td>\n",
       "      <td>52.124205</td>\n",
       "      <td>769383.0419</td>\n",
       "      <td>44.568532</td>\n",
       "    </tr>\n",
       "    <tr>\n",
       "      <th>2032</th>\n",
       "      <td>728668.8879</td>\n",
       "      <td>44.568532</td>\n",
       "      <td>757724.4960</td>\n",
       "      <td>44.568532</td>\n",
       "      <td>722261.3404</td>\n",
       "      <td>52.124205</td>\n",
       "      <td>769383.0419</td>\n",
       "      <td>44.568532</td>\n",
       "    </tr>\n",
       "    <tr>\n",
       "      <th>2033</th>\n",
       "      <td>723240.9709</td>\n",
       "      <td>44.637069</td>\n",
       "      <td>732828.5298</td>\n",
       "      <td>44.637069</td>\n",
       "      <td>723240.9709</td>\n",
       "      <td>44.637069</td>\n",
       "      <td>769383.0419</td>\n",
       "      <td>44.568532</td>\n",
       "    </tr>\n",
       "    <tr>\n",
       "      <th>2034</th>\n",
       "      <td>705799.4722</td>\n",
       "      <td>44.637069</td>\n",
       "      <td>690679.5295</td>\n",
       "      <td>44.705607</td>\n",
       "      <td>705799.4722</td>\n",
       "      <td>44.637069</td>\n",
       "      <td>683177.2467</td>\n",
       "      <td>44.705607</td>\n",
       "    </tr>\n",
       "    <tr>\n",
       "      <th>2035</th>\n",
       "      <td>705799.4722</td>\n",
       "      <td>44.637069</td>\n",
       "      <td>690679.5295</td>\n",
       "      <td>44.705607</td>\n",
       "      <td>705799.4722</td>\n",
       "      <td>44.637069</td>\n",
       "      <td>683177.2467</td>\n",
       "      <td>44.705607</td>\n",
       "    </tr>\n",
       "  </tbody>\n",
       "</table>"
      ],
      "text/plain": [
       "<IPython.core.display.HTML object>"
      ]
     },
     "metadata": {},
     "output_type": "display_data"
    }
   ],
   "source": [
    "# sum up the results of all vehicles\n",
    "sum_of_vehicles = {}\n",
    "number_of_strategies = 4 # N.B. haal weg\n",
    "number_of_vehicles = 6 # N.B. haal weg\n",
    "\n",
    "for i in range(number_of_strategies):\n",
    "    # loop over strategies\n",
    "    strat = 'strategie {}'.format(i+1) \n",
    "    s = 0\n",
    "    for j in range(number_of_vehicles):\n",
    "        # add dataframe to sum for each vehicle\n",
    "        vt = 'voertuig {}'.format(j+1)\n",
    "        s += collection_of_vehicles[vt][strat] \n",
    "    # add to new dictionary\n",
    "    sum_of_vehicles[strat] = s\n",
    "\n",
    "# divide by number of vehicles  \n",
    "#avg_of_vehicles = {k: v / nr_of_vehicles for k, v in sum_of_vehicles.items()}\n",
    "\n",
    "# put the results in a data frame\n",
    "df1 = get_yearly_average(sum_of_vehicles,4)\n",
    "df2 = get_yearly_costs(sum_of_vehicles, 4)\n",
    "\n",
    "# display the average results for all vehicles \n",
    "display(HTML(df1.to_html())) # averaged over all years\n",
    "display(HTML(df2.to_html())) # yearly change per strategy"
   ]
  },
  {
   "cell_type": "markdown",
   "metadata": {},
   "source": [
    "Plot the average over all years and vehicles (until 2035)."
   ]
  },
  {
   "cell_type": "code",
   "execution_count": 65,
   "metadata": {},
   "outputs": [
    {
     "data": {
      "image/png": "[encoded data removed]",
      "text/plain": [
       "<Figure size 720x216 with 2 Axes>"
      ]
     },
     "metadata": {
      "needs_background": "light"
     },
     "output_type": "display_data"
    }
   ],
   "source": [
    "# initiate subplots\n",
    "fig, axes = plt.subplots(figsize = (10,3),nrows=1, ncols=2)\n",
    "\n",
    "# plot total tco and co2\n",
    "df1['TCO kosten'].plot(ax=axes[0],x='strategie', y='TCO kosten',kind='bar',rot=0,legend=None,color='r') \n",
    "df1['CO2 uitstoot'].plot(ax=axes[1],x='strategie', y='CO2 uitstoot',kind='bar',rot=0,legend=None,color='b')\n",
    "\n",
    "# set labels\n",
    "axes[0].set_ylabel(r\"TCO per jaar (euro)\")\n",
    "axes[1].set_ylabel(r\"CO_2 per jaar (ton)\")\n",
    "axes[0].set_title(r'gemiddelde jaarlijkse kosten wagenpark')\n",
    "axes[1].set_title('gemiddelde jaarlijkse uitstoot wagenpark')    \n",
    "\n",
    "plt.show() "
   ]
  },
  {
   "cell_type": "markdown",
   "metadata": {},
   "source": [
    "Plot the average for all vehicles over the years."
   ]
  },
  {
   "cell_type": "code",
   "execution_count": 103,
   "metadata": {},
   "outputs": [
    {
     "data": {
      "image/png": "[encoded data removed]",
      "text/plain": [
       "<Figure size 1080x360 with 2 Axes>"
      ]
     },
     "metadata": {
      "needs_background": "light"
     },
     "output_type": "display_data"
    }
   ],
   "source": [
    "# initiate subplots\n",
    "fig, axes = plt.subplots(figsize = (15,5),nrows=1, ncols=2)\n",
    "\n",
    "# plot total tco and co2\n",
    "for i in range(nr_of_strategies):\n",
    "    strat = 'strategie {}'.format(i+1)\n",
    "    df2['TCO kosten ' + strat].plot(ax=axes[0],x=year, y='TCO kosten',kind='line',rot=0) \n",
    "    df2['CO2 uitstoot ' + strat].plot(ax=axes[1],x=year, y='CO2 uitstoot',kind='line',rot=0,label=strat)\n",
    "\n",
    "# plot line 30% emission goal in 2030\n",
    "p = 0.5\n",
    "q = 0.3\n",
    "x = np.linspace(2021,2035,100)\n",
    "y = df2['CO2 uitstoot strategie {}'.format(i+1)].loc[2021]*np.ones(100)\n",
    "axes[1].plot(x,p*y,'k-.', label = '{} % reduction'.format(p));\n",
    "axes[1].plot(x,q*y,'k--', label = '{} % reduction'.format(q));\n",
    "\n",
    "# set labels\n",
    "axes[0].set_ylabel(r\"TCO per jaar (euro)\")\n",
    "axes[1].set_ylabel(r\"CO_2 per jaar (ton)\")\n",
    "axes[0].set_title(r'jaarlijkse voertuigkosten wagenpark')\n",
    "axes[1].set_title('jaarlijkse uitstoot wagenpark')   \n",
    "\n",
    "# set legend\n",
    "axes[1].legend(loc='upper center', bbox_to_anchor=(1.3, 1));\n",
    "\n",
    "plt.show() "
   ]
  },
  {
   "cell_type": "markdown",
   "metadata": {
    "slideshow": {
     "slide_type": "slide"
    }
   },
   "source": [
    "### Calculate loading capacity"
   ]
  },
  {
   "cell_type": "code",
   "execution_count": 48,
   "metadata": {
    "slideshow": {
     "slide_type": "fragment"
    }
   },
   "outputs": [],
   "source": [
    "# calculate the loading capacity at 'home' and on the road for fleet of vehicles\n",
    "\n",
    "# TO/DO"
   ]
  },
  {
   "cell_type": "markdown",
   "metadata": {
    "slideshow": {
     "slide_type": "slide"
    }
   },
   "source": [
    "### Close Excel workbook"
   ]
  },
  {
   "cell_type": "code",
   "execution_count": 49,
   "metadata": {
    "slideshow": {
     "slide_type": "fragment"
    }
   },
   "outputs": [],
   "source": [
    "# Close Excel\n",
    "wb.close()"
   ]
  },
  {
   "cell_type": "markdown",
   "metadata": {
    "slideshow": {
     "slide_type": "skip"
    }
   },
   "source": [
    "# Sandbox"
   ]
  },
  {
   "cell_type": "markdown",
   "metadata": {
    "slideshow": {
     "slide_type": "skip"
    }
   },
   "source": [
    "In case you want to show the output only:"
   ]
  },
  {
   "cell_type": "code",
   "execution_count": 50,
   "metadata": {
    "slideshow": {
     "slide_type": "skip"
    }
   },
   "outputs": [
    {
     "data": {
      "text/html": [
       "<script>\n",
       "code_show=true; \n",
       "function code_toggle() {\n",
       " if (code_show){\n",
       " $('div.input').hide();\n",
       " } else {\n",
       " $('div.input').show();\n",
       " }\n",
       " code_show = !code_show\n",
       "} \n",
       "$( document ).ready(code_toggle);\n",
       "</script>\n",
       "<form action=\"javascript:code_toggle()\"><input type=\"submit\" value=\"Click here to toggle on/off the raw code.\"></form>"
      ],
      "text/plain": [
       "<IPython.core.display.HTML object>"
      ]
     },
     "execution_count": 50,
     "metadata": {},
     "output_type": "execute_result"
    }
   ],
   "source": [
    "HTML('''<script>\n",
    "code_show=true; \n",
    "function code_toggle() {\n",
    " if (code_show){\n",
    " $('div.input').hide();\n",
    " } else {\n",
    " $('div.input').show();\n",
    " }\n",
    " code_show = !code_show\n",
    "} \n",
    "$( document ).ready(code_toggle);\n",
    "</script>\n",
    "<form action=\"javascript:code_toggle()\"><input type=\"submit\" value=\"Click here to toggle on/off the raw code.\"></form>''')"
   ]
  },
  {
   "cell_type": "markdown",
   "metadata": {
    "slideshow": {
     "slide_type": "skip"
    }
   },
   "source": [
    "If you want to change fonts."
   ]
  },
  {
   "cell_type": "markdown",
   "metadata": {
    "slideshow": {
     "slide_type": "skip"
    }
   },
   "source": [
    "HTML('''\n",
    "<style>\n",
    "\n",
    "div.cell { /* Tunes the space between cells */\n",
    "margin-top:1em;\n",
    "margin-bottom:1em;\n",
    "}\n",
    "\n",
    "div.text_cell_render h1 { /* Main titles bigger, centered */\n",
    "font-size: 2.2em;\n",
    "line-height:1.4em;\n",
    "text-align:center;\n",
    "}\n",
    "\n",
    "div.text_cell_render h2 { /*  Parts names nearer from text */\n",
    "margin-bottom: -0.4em;\n",
    "}\n",
    "\n",
    "\n",
    "div.text_cell_render { /* Customize text cells */\n",
    "font-family: 'Courier';\n",
    "font-size:.5em;\n",
    "line-height:1.em;\n",
    "padding-left:3em;\n",
    "padding-right:3em;\n",
    "}\n",
    "</style>\n",
    "''')"
   ]
  }
 ],
 "metadata": {
  "celltoolbar": "Raw-celnotatie",
  "kernelspec": {
   "display_name": "Python 3",
   "language": "python",
   "name": "python3"
  },
  "language_info": {
   "codemirror_mode": {
    "name": "ipython",
    "version": 3
   },
   "file_extension": ".py",
   "mimetype": "text/x-python",
   "name": "python",
   "nbconvert_exporter": "python",
   "pygments_lexer": "ipython3",
   "version": "3.8.5"
  }
 },
 "nbformat": 4,
 "nbformat_minor": 4
}
