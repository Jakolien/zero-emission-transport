{
 "cells": [
  {
   "cell_type": "markdown",
   "metadata": {},
   "source": [
    "# Model the Total Cost of Ownership for electric transport vehicles"
   ]
  },
  {
   "cell_type": "markdown",
   "metadata": {},
   "source": [
    "### Defining our data set"
   ]
  },
  {
   "cell_type": "markdown",
   "metadata": {},
   "source": [
    "Import libraries:"
   ]
  },
  {
   "cell_type": "code",
   "execution_count": 1,
   "metadata": {},
   "outputs": [],
   "source": [
    "import os\n",
    "import numpy as np\n",
    "import pandas as pd\n",
    "import openpyxl\n",
    "import xarray as xr\n",
    "import cartopy.crs as ccrs\n",
    "import matplotlib.pyplot as plt\n",
    "import datetime\n",
    "import random\n",
    "%matplotlib inline"
   ]
  },
  {
   "cell_type": "markdown",
   "metadata": {},
   "source": [
    "### Run Excell spreadsheet Topsector Logistiek"
   ]
  },
  {
   "cell_type": "markdown",
   "metadata": {},
   "source": [
    "To be able to calculate the TCO value for several input values, we rewrite values in the excel sheet and then import the results in this notebook."
   ]
  },
  {
   "cell_type": "code",
   "execution_count": 2,
   "metadata": {},
   "outputs": [
    {
     "name": "stderr",
     "output_type": "stream",
     "text": [
      "C:\\Users\\meer0084\\Anaconda3\\envs\\ZET\\lib\\site-packages\\openpyxl\\reader\\drawings.py:59: UserWarning: wmf image format is not supported so the image is being dropped\n",
      "  warn(msg)\n",
      "C:\\Users\\meer0084\\Anaconda3\\envs\\ZET\\lib\\site-packages\\openpyxl\\worksheet\\_reader.py:300: UserWarning: Data Validation extension is not supported and will be removed\n",
      "  warn(msg)\n"
     ]
    },
    {
     "name": "stdout",
     "output_type": "stream",
     "text": [
      "Voertuigtype: Kleine bakwagen (12t)\n",
      "Koelmachine (J/N): gekoeld\n",
      "Verwacht jaarkilometrage: 20000\n",
      "Grijze/groene elektriciteit: groen\n",
      "Capaciteit vrachtwagenbatterij: \n",
      "Vermogen eigen oplaadsysteem: \n"
     ]
    }
   ],
   "source": [
    "from openpyxl import Workbook,load_workbook\n",
    "\n",
    "# specify location Excel workbook\n",
    "dest_filename = r'C:\\Users\\meer0084\\Documents\\test.xlsx'\n",
    "\n",
    "# open workbook with formulas\n",
    "if os.path.isfile(dest_filename):\n",
    "    wb = load_workbook(filename = dest_filename) # In case of xslm file add following options: read_only=False, keep_vba=True\n",
    "else:\n",
    "    wb = Workbook()\n",
    "\n",
    "ws = wb['TCO module ondernemers']\n",
    "\n",
    "# ask for input values\n",
    "vtype = str(input('Voertuigtype: ')) # {Kleine bakwagen (12t), Grote bakwagen (18t), Trekker-oplegger}\n",
    "koeling = str(input('Koelmachine (J/N): ')) # {gekoeld, niet gekoeld}\n",
    "km = input('Verwacht jaarkilometrage: ') # > 0\n",
    "el = str(input('Grijze/groene elektriciteit: ')) # {grijs, groen}\n",
    "cap = input('Capaciteit vrachtwagenbatterij: ') # {160,200,240}, default value = 160\n",
    "kwh = input('Vermogen eigen oplaadsysteem: ') # {3,7 , 20, 50, 150, 350} kWh, default value = 20\n",
    "\n",
    "# insert input values in sheet, if empty insert default values\n",
    "ws.cell(12, 2).value = vtype #'Grote bakwagen (18t)' if len(vtype)==0 else \n",
    "ws.cell(13, 2).value = koeling #\n",
    "ws.cell(14, 2).value = km #\n",
    "ws.cell(15, 2).value = el #'grijs' if len(koeling)==0 else el\n",
    "ws.cell(13, 5).value = cap\n",
    "ws.cell(15, 5).value = kwh\n",
    "\n",
    "# save and close file\n",
    "wb.save(filename = dest_filename)\n",
    "wb.close()"
   ]
  },
  {
   "cell_type": "markdown",
   "metadata": {},
   "source": [
    "Read results from workbook and put in a list, then select the important variables."
   ]
  },
  {
   "cell_type": "code",
   "execution_count": 3,
   "metadata": {},
   "outputs": [],
   "source": [
    "# Open workbook with data_only flag\n",
    "\n",
    "if os.path.isfile(dest_filename):\n",
    "    wb_ro = load_workbook(filename = dest_filename , data_only=True)\n",
    "else:\n",
    "    wb_ro = Workbook()\n",
    "\n",
    "ws_ro = wb_ro['TCO module ondernemers']"
   ]
  },
  {
   "cell_type": "code",
   "execution_count": 4,
   "metadata": {},
   "outputs": [
    {
     "name": "stdout",
     "output_type": "stream",
     "text": [
      "None\n"
     ]
    }
   ],
   "source": [
    "# make list\n",
    "data_rows = []\n",
    "for row in ws_ro.iter_rows(min_col=1, min_row=33, max_col=6, max_row=105):\n",
    "    if row[0].value is not None:\n",
    "        data_rows.append([cell.value for cell in row])\n",
    "    else: continue\n",
    "        \n",
    "# check if data value        \n",
    "print(ws_ro['C44'].value) # if None, recalculate excel sheet to fill cache"
   ]
  },
  {
   "cell_type": "code",
   "execution_count": 5,
   "metadata": {},
   "outputs": [],
   "source": [
    "# define columns\n",
    "def column(matrix, i):\n",
    "    return [row[i] for row in matrix]\n",
    "\n",
    "kosten_post=column(data_rows,0)\n",
    "thuis_opladen=column(data_rows,2)\n",
    "optimale_mix=column(data_rows,3)\n",
    "diesel=column(data_rows,4)"
   ]
  },
  {
   "cell_type": "code",
   "execution_count": 6,
   "metadata": {},
   "outputs": [],
   "source": [
    "# select indexes\n",
    "l1 = kosten_post\n",
    "matched_indexes = []\n",
    "i = 0\n",
    "length = len(l1)\n",
    "\n",
    "while i < length:\n",
    "    if ':' in l1[i] and 'km' not in l1[i]:\n",
    "        matched_indexes.append(i)\n",
    "    i += 1"
   ]
  },
  {
   "cell_type": "code",
   "execution_count": 7,
   "metadata": {},
   "outputs": [
    {
     "data": {
      "image/png": "[encoded data removed]",
      "text/plain": [
       "<Figure size 432x288 with 1 Axes>"
      ]
     },
     "metadata": {
      "needs_background": "light"
     },
     "output_type": "display_data"
    }
   ],
   "source": [
    "# show table with results\n",
    "\n",
    "kosten_post_kosten = [kosten_post[i] for i in matched_indexes]\n",
    "thuis_opladen_kosten = [thuis_opladen[i] for i in matched_indexes]\n",
    "diesel_kosten = [diesel[i] for i in matched_indexes]\n",
    "\n",
    "l = [kosten_post_kosten, thuis_opladen_kosten, diesel_kosten]\n",
    "l = list(map(list, zip(*l)))\n",
    "kosten_tabel=plt.table(cellText=l,loc='top', colLabels = None, cellLoc='center')\n",
    "plt.axis(\"off\")\n",
    "kosten_tabel.auto_set_font_size(False)\n",
    "kosten_tabel.set_fontsize(10)\n",
    "kosten_tabel.scale(3, 4)\n",
    "plt.show()"
   ]
  },
  {
   "cell_type": "code",
   "execution_count": 8,
   "metadata": {},
   "outputs": [
    {
     "ename": "TypeError",
     "evalue": "no numeric data to plot",
     "output_type": "error",
     "traceback": [
      "\u001b[1;31m---------------------------------------------------------------------------\u001b[0m",
      "\u001b[1;31mTypeError\u001b[0m                                 Traceback (most recent call last)",
      "\u001b[1;32m<ipython-input-8-a4fb95c0ce22>\u001b[0m in \u001b[0;36m<module>\u001b[1;34m\u001b[0m\n\u001b[0;32m      3\u001b[0m df = pd.DataFrame({'electrisch': thuis_opladen_kosten,\n\u001b[0;32m      4\u001b[0m                    'diesel': diesel_kosten}, index=index)\n\u001b[1;32m----> 5\u001b[1;33m \u001b[0max\u001b[0m \u001b[1;33m=\u001b[0m \u001b[0mdf\u001b[0m\u001b[1;33m.\u001b[0m\u001b[0mplot\u001b[0m\u001b[1;33m.\u001b[0m\u001b[0mbar\u001b[0m\u001b[1;33m(\u001b[0m\u001b[0mrot\u001b[0m\u001b[1;33m=\u001b[0m\u001b[1;36m0\u001b[0m\u001b[1;33m)\u001b[0m\u001b[1;33m\u001b[0m\u001b[1;33m\u001b[0m\u001b[0m\n\u001b[0m\u001b[0;32m      6\u001b[0m \u001b[0max\u001b[0m\u001b[1;33m.\u001b[0m\u001b[0mset_yscale\u001b[0m\u001b[1;33m(\u001b[0m\u001b[1;34m'log'\u001b[0m\u001b[1;33m)\u001b[0m\u001b[1;33m\u001b[0m\u001b[1;33m\u001b[0m\u001b[0m\n\u001b[0;32m      7\u001b[0m \u001b[0max\u001b[0m\u001b[1;33m.\u001b[0m\u001b[0mset_title\u001b[0m\u001b[1;33m(\u001b[0m\u001b[1;34m'TCO costs 2020'\u001b[0m\u001b[1;33m)\u001b[0m\u001b[1;33m;\u001b[0m\u001b[1;33m\u001b[0m\u001b[1;33m\u001b[0m\u001b[0m\n",
      "\u001b[1;32m~\\Anaconda3\\envs\\ZET\\lib\\site-packages\\pandas\\plotting\\_core.py\u001b[0m in \u001b[0;36mbar\u001b[1;34m(self, x, y, **kwargs)\u001b[0m\n\u001b[0;32m   1105\u001b[0m         \u001b[0mother\u001b[0m \u001b[0maxis\u001b[0m \u001b[0mrepresents\u001b[0m \u001b[0ma\u001b[0m \u001b[0mmeasured\u001b[0m \u001b[0mvalue\u001b[0m\u001b[1;33m.\u001b[0m\u001b[1;33m\u001b[0m\u001b[1;33m\u001b[0m\u001b[0m\n\u001b[0;32m   1106\u001b[0m         \"\"\"\n\u001b[1;32m-> 1107\u001b[1;33m         \u001b[1;32mreturn\u001b[0m \u001b[0mself\u001b[0m\u001b[1;33m(\u001b[0m\u001b[0mkind\u001b[0m\u001b[1;33m=\u001b[0m\u001b[1;34m\"bar\"\u001b[0m\u001b[1;33m,\u001b[0m \u001b[0mx\u001b[0m\u001b[1;33m=\u001b[0m\u001b[0mx\u001b[0m\u001b[1;33m,\u001b[0m \u001b[0my\u001b[0m\u001b[1;33m=\u001b[0m\u001b[0my\u001b[0m\u001b[1;33m,\u001b[0m \u001b[1;33m**\u001b[0m\u001b[0mkwargs\u001b[0m\u001b[1;33m)\u001b[0m\u001b[1;33m\u001b[0m\u001b[1;33m\u001b[0m\u001b[0m\n\u001b[0m\u001b[0;32m   1108\u001b[0m \u001b[1;33m\u001b[0m\u001b[0m\n\u001b[0;32m   1109\u001b[0m     @Appender(\n",
      "\u001b[1;32m~\\Anaconda3\\envs\\ZET\\lib\\site-packages\\pandas\\plotting\\_core.py\u001b[0m in \u001b[0;36m__call__\u001b[1;34m(self, *args, **kwargs)\u001b[0m\n\u001b[0;32m    947\u001b[0m                     \u001b[0mdata\u001b[0m\u001b[1;33m.\u001b[0m\u001b[0mcolumns\u001b[0m \u001b[1;33m=\u001b[0m \u001b[0mlabel_name\u001b[0m\u001b[1;33m\u001b[0m\u001b[1;33m\u001b[0m\u001b[0m\n\u001b[0;32m    948\u001b[0m \u001b[1;33m\u001b[0m\u001b[0m\n\u001b[1;32m--> 949\u001b[1;33m         \u001b[1;32mreturn\u001b[0m \u001b[0mplot_backend\u001b[0m\u001b[1;33m.\u001b[0m\u001b[0mplot\u001b[0m\u001b[1;33m(\u001b[0m\u001b[0mdata\u001b[0m\u001b[1;33m,\u001b[0m \u001b[0mkind\u001b[0m\u001b[1;33m=\u001b[0m\u001b[0mkind\u001b[0m\u001b[1;33m,\u001b[0m \u001b[1;33m**\u001b[0m\u001b[0mkwargs\u001b[0m\u001b[1;33m)\u001b[0m\u001b[1;33m\u001b[0m\u001b[1;33m\u001b[0m\u001b[0m\n\u001b[0m\u001b[0;32m    950\u001b[0m \u001b[1;33m\u001b[0m\u001b[0m\n\u001b[0;32m    951\u001b[0m     \u001b[0m__call__\u001b[0m\u001b[1;33m.\u001b[0m\u001b[0m__doc__\u001b[0m \u001b[1;33m=\u001b[0m \u001b[0m__doc__\u001b[0m\u001b[1;33m\u001b[0m\u001b[1;33m\u001b[0m\u001b[0m\n",
      "\u001b[1;32m~\\Anaconda3\\envs\\ZET\\lib\\site-packages\\pandas\\plotting\\_matplotlib\\__init__.py\u001b[0m in \u001b[0;36mplot\u001b[1;34m(data, kind, **kwargs)\u001b[0m\n\u001b[0;32m     59\u001b[0m             \u001b[0mkwargs\u001b[0m\u001b[1;33m[\u001b[0m\u001b[1;34m\"ax\"\u001b[0m\u001b[1;33m]\u001b[0m \u001b[1;33m=\u001b[0m \u001b[0mgetattr\u001b[0m\u001b[1;33m(\u001b[0m\u001b[0max\u001b[0m\u001b[1;33m,\u001b[0m \u001b[1;34m\"left_ax\"\u001b[0m\u001b[1;33m,\u001b[0m \u001b[0max\u001b[0m\u001b[1;33m)\u001b[0m\u001b[1;33m\u001b[0m\u001b[1;33m\u001b[0m\u001b[0m\n\u001b[0;32m     60\u001b[0m     \u001b[0mplot_obj\u001b[0m \u001b[1;33m=\u001b[0m \u001b[0mPLOT_CLASSES\u001b[0m\u001b[1;33m[\u001b[0m\u001b[0mkind\u001b[0m\u001b[1;33m]\u001b[0m\u001b[1;33m(\u001b[0m\u001b[0mdata\u001b[0m\u001b[1;33m,\u001b[0m \u001b[1;33m**\u001b[0m\u001b[0mkwargs\u001b[0m\u001b[1;33m)\u001b[0m\u001b[1;33m\u001b[0m\u001b[1;33m\u001b[0m\u001b[0m\n\u001b[1;32m---> 61\u001b[1;33m     \u001b[0mplot_obj\u001b[0m\u001b[1;33m.\u001b[0m\u001b[0mgenerate\u001b[0m\u001b[1;33m(\u001b[0m\u001b[1;33m)\u001b[0m\u001b[1;33m\u001b[0m\u001b[1;33m\u001b[0m\u001b[0m\n\u001b[0m\u001b[0;32m     62\u001b[0m     \u001b[0mplot_obj\u001b[0m\u001b[1;33m.\u001b[0m\u001b[0mdraw\u001b[0m\u001b[1;33m(\u001b[0m\u001b[1;33m)\u001b[0m\u001b[1;33m\u001b[0m\u001b[1;33m\u001b[0m\u001b[0m\n\u001b[0;32m     63\u001b[0m     \u001b[1;32mreturn\u001b[0m \u001b[0mplot_obj\u001b[0m\u001b[1;33m.\u001b[0m\u001b[0mresult\u001b[0m\u001b[1;33m\u001b[0m\u001b[1;33m\u001b[0m\u001b[0m\n",
      "\u001b[1;32m~\\Anaconda3\\envs\\ZET\\lib\\site-packages\\pandas\\plotting\\_matplotlib\\core.py\u001b[0m in \u001b[0;36mgenerate\u001b[1;34m(self)\u001b[0m\n\u001b[0;32m    267\u001b[0m     \u001b[1;32mdef\u001b[0m \u001b[0mgenerate\u001b[0m\u001b[1;33m(\u001b[0m\u001b[0mself\u001b[0m\u001b[1;33m)\u001b[0m\u001b[1;33m:\u001b[0m\u001b[1;33m\u001b[0m\u001b[1;33m\u001b[0m\u001b[0m\n\u001b[0;32m    268\u001b[0m         \u001b[0mself\u001b[0m\u001b[1;33m.\u001b[0m\u001b[0m_args_adjust\u001b[0m\u001b[1;33m(\u001b[0m\u001b[1;33m)\u001b[0m\u001b[1;33m\u001b[0m\u001b[1;33m\u001b[0m\u001b[0m\n\u001b[1;32m--> 269\u001b[1;33m         \u001b[0mself\u001b[0m\u001b[1;33m.\u001b[0m\u001b[0m_compute_plot_data\u001b[0m\u001b[1;33m(\u001b[0m\u001b[1;33m)\u001b[0m\u001b[1;33m\u001b[0m\u001b[1;33m\u001b[0m\u001b[0m\n\u001b[0m\u001b[0;32m    270\u001b[0m         \u001b[0mself\u001b[0m\u001b[1;33m.\u001b[0m\u001b[0m_setup_subplots\u001b[0m\u001b[1;33m(\u001b[0m\u001b[1;33m)\u001b[0m\u001b[1;33m\u001b[0m\u001b[1;33m\u001b[0m\u001b[0m\n\u001b[0;32m    271\u001b[0m         \u001b[0mself\u001b[0m\u001b[1;33m.\u001b[0m\u001b[0m_make_plot\u001b[0m\u001b[1;33m(\u001b[0m\u001b[1;33m)\u001b[0m\u001b[1;33m\u001b[0m\u001b[1;33m\u001b[0m\u001b[0m\n",
      "\u001b[1;32m~\\Anaconda3\\envs\\ZET\\lib\\site-packages\\pandas\\plotting\\_matplotlib\\core.py\u001b[0m in \u001b[0;36m_compute_plot_data\u001b[1;34m(self)\u001b[0m\n\u001b[0;32m    416\u001b[0m         \u001b[1;31m# no non-numeric frames or series allowed\u001b[0m\u001b[1;33m\u001b[0m\u001b[1;33m\u001b[0m\u001b[1;33m\u001b[0m\u001b[0m\n\u001b[0;32m    417\u001b[0m         \u001b[1;32mif\u001b[0m \u001b[0mis_empty\u001b[0m\u001b[1;33m:\u001b[0m\u001b[1;33m\u001b[0m\u001b[1;33m\u001b[0m\u001b[0m\n\u001b[1;32m--> 418\u001b[1;33m             \u001b[1;32mraise\u001b[0m \u001b[0mTypeError\u001b[0m\u001b[1;33m(\u001b[0m\u001b[1;34m\"no numeric data to plot\"\u001b[0m\u001b[1;33m)\u001b[0m\u001b[1;33m\u001b[0m\u001b[1;33m\u001b[0m\u001b[0m\n\u001b[0m\u001b[0;32m    419\u001b[0m \u001b[1;33m\u001b[0m\u001b[0m\n\u001b[0;32m    420\u001b[0m         \u001b[1;31m# GH25587: cast ExtensionArray of pandas (IntegerArray, etc.) to\u001b[0m\u001b[1;33m\u001b[0m\u001b[1;33m\u001b[0m\u001b[1;33m\u001b[0m\u001b[0m\n",
      "\u001b[1;31mTypeError\u001b[0m: no numeric data to plot"
     ]
    }
   ],
   "source": [
    "# Make bar plot\n",
    "index = ['a', 'b', 'c', 'd', 'e', 'tot/uur']\n",
    "df = pd.DataFrame({'electrisch': thuis_opladen_kosten,\n",
    "                   'diesel': diesel_kosten}, index=index)\n",
    "ax = df.plot.bar(rot=0)\n",
    "ax.set_yscale('log')\n",
    "ax.set_title('TCO costs 2020');"
   ]
  },
  {
   "cell_type": "markdown",
   "metadata": {},
   "source": [
    "### Include a time axis to the model"
   ]
  },
  {
   "cell_type": "markdown",
   "metadata": {},
   "source": [
    "To come up with a smart TCO model that includes the evaluation of the cost components in time, we need to define a time scale first."
   ]
  },
  {
   "cell_type": "code",
   "execution_count": null,
   "metadata": {},
   "outputs": [],
   "source": [
    "i = 0\n",
    "year = []\n",
    "last_year = 2020\n",
    "while i < 10: # N.B. make ds.sizes or len(ds)    \n",
    "    year.append(last_year) \n",
    "    last_year += 1\n",
    "    i += 1\n",
    "    \n",
    "print(year)"
   ]
  },
  {
   "cell_type": "markdown",
   "metadata": {},
   "source": [
    "Now we are able to change the input parameters over the years, and look how the tco values will evolve accordingly."
   ]
  },
  {
   "cell_type": "code",
   "execution_count": null,
   "metadata": {},
   "outputs": [],
   "source": [
    "# Read type and battery capacity\n",
    "vehicle_type = ws_ro['B12']\n",
    "battery_capacity = ws_ro['E13']\n",
    "\n",
    "# get current vehicle price\n",
    "mp = wb_ro['Model parameters']\n",
    "vehicle_price = []\n",
    "diesel_price = []\n",
    "last_value = mp['E5'].value # N.B. change this line to select correct box including both strings above\n",
    "last_value_diesel = mp['E18'].value # N.B. change this line to select correct box including both strings above\n",
    "\n",
    "# close read-only wb\n",
    "wb_ro.close()"
   ]
  },
  {
   "cell_type": "code",
   "execution_count": null,
   "metadata": {},
   "outputs": [],
   "source": [
    "# predict purchase price 2020-2030\n",
    "i = 0\n",
    "while i < 10: # N.B. make ds.sizes or len(ds)    \n",
    "    vehicle_price.append(last_value) \n",
    "    diesel_price.append(last_value_diesel)\n",
    "    last_value = last_value*0.9 + random.uniform(-1000,1000)\n",
    "    last_value_diesel = last_value_diesel*1.01 + random.uniform(-1000,1000)\n",
    "    i += 1"
   ]
  },
  {
   "cell_type": "code",
   "execution_count": null,
   "metadata": {},
   "outputs": [],
   "source": [
    "# change purchase price in sheet and read result \n",
    "i = 0\n",
    "tco_per_year = []\n",
    "while i < 1:\n",
    "    \n",
    "    # Open workbook to write values\n",
    "    if os.path.isfile(dest_filename):\n",
    "        wb = load_workbook(filename = dest_filename) \n",
    "    else:\n",
    "        wb = Workbook()\n",
    "\n",
    "    ws = wb['TCO module ondernemers']\n",
    "    \n",
    "    ws.cell(24,5).value = vehicle_price[i]\n",
    "    ws.cell(24,5).value = vehicle_price[i]\n",
    "    #ws.cell(22,5).value = subsidies[i] \n",
    "    \n",
    "    # save and close workbook\n",
    "    wb.save(filename = dest_filename)\n",
    "    wb.close()\n",
    "    \n",
    "    # Open workbook with data_only and read_only flag\n",
    "    if os.path.isfile(dest_filename):\n",
    "        wb_ro = load_workbook(filename = dest_filename, data_only=True, read_only=True) \n",
    "    else:\n",
    "        wb_ro = Workbook()\n",
    "\n",
    "    ws_ro = wb_ro['TCO module ondernemers']\n",
    "    \n",
    "    # read total costs of ownership\n",
    "    tco_per_year.append(ws_ro['C44'].value)\n",
    "    \n",
    "    # close workbook\n",
    "    wb_ro.close() \n"
   ]
  },
  {
   "cell_type": "code",
   "execution_count": null,
   "metadata": {},
   "outputs": [],
   "source": [
    "# plot price evolution in time\n",
    "plt.plot(year,vehicle_price, c='blue', label = 'electric');\n",
    "plt.plot(year,diesel_price, c='orange', label ='diesel');\n",
    "plt.plot(year,tco_per_year, c='red', label ='tco per year');\n",
    "plt.xlabel('year')\n",
    "plt.ylabel('TCO per year')\n",
    "plt.title('TCO per year comparison');\n",
    "plt.legend(loc='best')\n",
    "plt.show()"
   ]
  },
  {
   "cell_type": "code",
   "execution_count": null,
   "metadata": {},
   "outputs": [],
   "source": [
    "# show costs components in histogram\n",
    "\n",
    "bins = 10\n",
    "data = np.random.randn(1000, 3)\n",
    "\n",
    "colors = ['blue','green', 'red']\n",
    "plt.hist(data, bins, histtype='bar', color=colors, stacked=True, fill=True)\n",
    "\n",
    "plt.show()"
   ]
  },
  {
   "cell_type": "markdown",
   "metadata": {},
   "source": [
    "### Find best time to replace diesel vehicle by BEV"
   ]
  },
  {
   "cell_type": "code",
   "execution_count": null,
   "metadata": {},
   "outputs": [],
   "source": [
    "# select strategy to be computed\n",
    "# strategy 1: replace diesel vehicle with similar electric vehicle if old vehicle is written off\n",
    "# strategy 2: keep diesel vehicle x years longer until diesel tco per year = electric tco per year\n",
    "# strategy 3: replace old diesel truck with new diesel truck/hybrid truck until year x\n",
    "\n",
    "# compute strategy"
   ]
  },
  {
   "cell_type": "code",
   "execution_count": null,
   "metadata": {},
   "outputs": [],
   "source": [
    "# select scenario (Elaad) for price evolution"
   ]
  },
  {
   "cell_type": "markdown",
   "metadata": {},
   "source": [
    "### Calculate the TCO for a fleet of vehicles"
   ]
  },
  {
   "cell_type": "code",
   "execution_count": null,
   "metadata": {},
   "outputs": [],
   "source": [
    "# Select number of vehicles and type in fleet"
   ]
  }
 ],
 "metadata": {
  "kernelspec": {
   "display_name": "Python 3",
   "language": "python",
   "name": "python3"
  },
  "language_info": {
   "codemirror_mode": {
    "name": "ipython",
    "version": 3
   },
   "file_extension": ".py",
   "mimetype": "text/x-python",
   "name": "python",
   "nbconvert_exporter": "python",
   "pygments_lexer": "ipython3",
   "version": "3.8.5"
  }
 },
 "nbformat": 4,
 "nbformat_minor": 4
}
