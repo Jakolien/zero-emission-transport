{
 "cells": [
  {
   "cell_type": "markdown",
   "metadata": {},
   "source": [
    "# Model the Total Cost of Ownership for electric transport vehicles"
   ]
  },
  {
   "cell_type": "markdown",
   "metadata": {},
   "source": [
    "### Defining our data set"
   ]
  },
  {
   "cell_type": "markdown",
   "metadata": {},
   "source": [
    "Import libraries:"
   ]
  },
  {
   "cell_type": "code",
   "execution_count": 5,
   "metadata": {},
   "outputs": [],
   "source": [
    "import os\n",
    "import numpy as np\n",
    "import pandas as pd\n",
    "import xarray as xr\n",
    "import cartopy.crs as ccrs\n",
    "import matplotlib.pyplot as plt\n",
    "import datetime\n",
    "from scipy import spatial\n",
    "%matplotlib inline"
   ]
  },
  {
   "cell_type": "markdown",
   "metadata": {},
   "source": [
    "### Simple decision model for one customer traffic"
   ]
  },
  {
   "cell_type": "markdown",
   "metadata": {},
   "source": [
    "We start by making an approximation of the costs for electric transportation of a one vehicle, one customer ride and the possibility of loading during the way and/or at the customer."
   ]
  },
  {
   "cell_type": "code",
   "execution_count": 15,
   "metadata": {},
   "outputs": [],
   "source": [
    "# set parameters\n",
    "s1 = 10000; # distance to customer (m)\n",
    "s2 = 7000; # distance from loading point to base (m)\n",
    "s3 = 5000; # distance from loading point to customer (m)\n",
    "m = 1; # number of rides per day\n",
    "a_max = 20; # maximum action radius vehicle with a fully charged battery (kWh)\n",
    "n_c = 3600; # waiting time at customer (sec)"
   ]
  },
  {
   "cell_type": "code",
   "execution_count": 16,
   "metadata": {},
   "outputs": [],
   "source": [
    "# define total cost of ownership vehicle per km (euros/km)\n",
    "def tco_km(p1, c_e, f, d, l, r = 0, c_t = 0):\n",
    "    # p1 = initial costs vehicle and loading facilities (euros) -> is getting lower for newer vehicles f(year of purchase)\n",
    "    # c_e = average costs for electricity (euros/kWh) -> depended on location and time, but for now assumed constant\n",
    "    # f = average consumption (kWh/km)   \n",
    "    # c_m = average maintenance costs per year (euros) -> needs to be a function of age f(year of purchase)\n",
    "    # d = average distance covered per year (km)\n",
    "    # l = economic life expectancy (years) -> is growing for newer electric vehicles\n",
    "    # c_i = insurance costs per year (euros)\n",
    "    # r = residual valu after l years of normal use (euros) -> now almost zero, but growing for newer vehicles f(year of purchase)\n",
    "    # c_t = motor vehicle taxes per year (euros) -> zero until 2025, but after this growing\n",
    "    \n",
    "    depreciation = (p1 - r)/l;\n",
    "    fixed_costs = (depreciation + c_i + c_t + c_m)/d;\n",
    "    variable_costs = c_e * f;\n",
    "    \n",
    "    return fixed_costs + variable_costs"
   ]
  },
  {
   "cell_type": "code",
   "execution_count": 12,
   "metadata": {},
   "outputs": [],
   "source": [
    "def calculate_ride_costs(d1,d2,d3,a_max,n_c,m1,m2,v,c_e,f,c_tco):\n",
    "    # s1,s2,s3 = distance to customer, directly or via loading facility (m)\n",
    "    # a_max = maximum capacity accu (kWh)\n",
    "    # n_c = waiting time at customer (sec)\n",
    "    # m1 = mass of loaded vehicle (kg)\n",
    "    # m2 = mass of empty vehicle (kg)\n",
    "    # v = average speed vehicle over total ride (m/s)\n",
    "    # c_e = average costs for electricity (euros/kWh) -> depended on location and time, but for now assumed constant\n",
    "    # f = average consumption (kWh/km)  \n",
    "    # c_tco = average costs per km (euros/km)\n",
    "        \n",
    "    # check if input is correct\n",
    "    if (d1 >= (d2 + d3)):\n",
    "        print(\"input distances not correct: d1>=d2+d3\");\n",
    "        \n",
    "    # calculate distance ride and total loading time\n",
    "    \n",
    "    # calculate driving costs\n",
    "    driving_costs = 1/3600 * c_tco * s_tot * f/(m * v);\n",
    "    \n",
    "    # calculate loading costs\n",
    "    loading costs = c_l * v_l * n_l + c_l * a_max;\n",
    "    \n",
    "    # calculate total costs        \n",
    "    return  driving_costs + loading_costs;\n"
   ]
  },
  {
   "cell_type": "markdown",
   "metadata": {},
   "source": [
    "### Complex model"
   ]
  },
  {
   "cell_type": "markdown",
   "metadata": {},
   "source": [
    "To come up with a smart TCO model that includes the evaluation of the cost components in time, we need to define a time scale first."
   ]
  },
  {
   "cell_type": "code",
   "execution_count": 7,
   "metadata": {},
   "outputs": [],
   "source": [
    "time = pd.date_range(\"2020-01-01\", freq=\"D\", periods=365 * 10)\n",
    "\n",
    "ds = xr.Dataset({\"foo\": (\"time\", np.arange(365 * 10)), \"time\": time})"
   ]
  },
  {
   "cell_type": "markdown",
   "metadata": {},
   "source": [
    "We start by defining six different vehicle categories, defined by their average load capacity and fuel type, that exist at the moment.\n",
    "\n",
    "N.B. All parameter values are averages and are taken from the TNO report and website below or guessed, for the sake of early testing of the model. In case of energy costs, the range for electric vehicles is very large and depends on the place of loading (work, home, on the road), loading duration, and also varies during the day. Thus loading time and costs are dependent parameters. \n",
    "\n",
    "[TNO, 2018]: ELEKTRISCHE BESTELAUTO’S IN NEDERLAND – MARKTONTWIKKELINGEN 2017-2025\n",
    "\n",
    "https://autofans.be/nieuws/overheid/43275-dit-kost-100-km-rijden-motortype-diesel-benzine-cng-ev"
   ]
  },
  {
   "cell_type": "code",
   "execution_count": null,
   "metadata": {},
   "outputs": [],
   "source": [
    "dict = {\"car type\": [\"small van\", \"medium van\", \"large van\", \"small E-van\", \"medium E-van\", \"large E-van\"],\n",
    "       \"weight (kg))\": [1500, 2000, 2500],\n",
    "       \"maximum load (kg)\": [700, 1000, 1500, 740, 1000, 1100],\n",
    "       \"initial cost (euros)\": [],\n",
    "       \"energy type\": [\"diesel\", \"diesel\", \"diesel\", \"electric\", \"electric\", \"electric\"],\n",
    "       \"energy cost/km (euros)\": [0.077, 0.077, 0.077, 0.02, 0.02, 0.02],\n",
    "       \"range on full tank/battery (km)\": [600, 600, 600, 150, 170, 200],\n",
    "       \"accu capacity (kWh)\": [Nan, Nan, Nan, 20, 40, 60],\n",
    "       \"loading time (sec)\": [23, 23, 23, 4380, 4380, 4380],\n",
    "       \"lifetime (years)\": [9.3, 9.3, 9.3, ],\n",
    "       \"residual value\": [200.4, 143.5, 1252, 1357, 52.98],\n",
    "       \"maintenance cost/km\": []\n",
    "    }"
   ]
  }
 ],
 "metadata": {
  "kernelspec": {
   "display_name": "Python 3",
   "language": "python",
   "name": "python3"
  },
  "language_info": {
   "codemirror_mode": {
    "name": "ipython",
    "version": 3
   },
   "file_extension": ".py",
   "mimetype": "text/x-python",
   "name": "python",
   "nbconvert_exporter": "python",
   "pygments_lexer": "ipython3",
   "version": "3.8.5"
  }
 },
 "nbformat": 4,
 "nbformat_minor": 4
}
